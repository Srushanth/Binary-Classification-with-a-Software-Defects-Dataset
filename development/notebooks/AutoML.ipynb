{
 "cells": [
  {
   "cell_type": "code",
   "execution_count": 1,
   "metadata": {},
   "outputs": [],
   "source": [
    "import pandas as pd\n",
    "from supervised.automl import AutoML"
   ]
  },
  {
   "cell_type": "code",
   "execution_count": 2,
   "metadata": {},
   "outputs": [],
   "source": [
    "df = pd.read_csv(\"../../data/train.csv\")\n",
    "df = df.drop(columns=[\"id\"])\n",
    "X = df.drop(columns=[\"defects\"]).values\n",
    "y = df[\"defects\"].values"
   ]
  },
  {
   "cell_type": "code",
   "execution_count": 3,
   "metadata": {},
   "outputs": [],
   "source": [
    "automl = AutoML(mode='Compete', eval_metric='auc')"
   ]
  },
  {
   "cell_type": "code",
   "execution_count": 4,
   "metadata": {},
   "outputs": [
    {
     "name": "stdout",
     "output_type": "stream",
     "text": [
      "Linear algorithm was disabled.\n",
      "AutoML directory: AutoML_1\n",
      "The task is binary_classification with evaluation metric auc\n",
      "AutoML will use algorithms: ['Decision Tree', 'Random Forest', 'Extra Trees', 'LightGBM', 'Xgboost', 'CatBoost', 'Neural Network', 'Nearest Neighbors']\n",
      "AutoML will stack models\n",
      "AutoML will ensemble available models\n",
      "AutoML steps: ['adjust_validation', 'simple_algorithms', 'default_algorithms', 'not_so_random', 'golden_features', 'kmeans_features', 'insert_random_feature', 'features_selection', 'hill_climbing_1', 'hill_climbing_2', 'boost_on_errors', 'ensemble', 'stack', 'ensemble_stacked']\n",
      "* Step adjust_validation will try to check up to 1 model\n",
      "1_DecisionTree auc 0.775427 trained in 2.7 seconds\n",
      "Adjust validation. Remove: 1_DecisionTree\n",
      "Validation strategy: 10-fold CV Shuffle,Stratify\n",
      "* Step simple_algorithms will try to check up to 3 models\n",
      "1_DecisionTree auc 0.780351 trained in 15.57 seconds\n",
      "2_DecisionTree auc 0.783386 trained in 16.53 seconds\n",
      "3_DecisionTree auc 0.783386 trained in 16.15 seconds\n",
      "* Step default_algorithms will try to check up to 6 models\n",
      "4_Default_LightGBM auc 0.789536 trained in 23.73 seconds\n"
     ]
    },
    {
     "name": "stderr",
     "output_type": "stream",
     "text": [
      "c:\\GitHub\\Binary-Classification-with-a-Software-Defects-Dataset\\venv\\lib\\site-packages\\xgboost\\data.py:520: FutureWarning: is_sparse is deprecated and will be removed in a future version. Check `isinstance(dtype, pd.SparseDtype)` instead.\n",
      "c:\\GitHub\\Binary-Classification-with-a-Software-Defects-Dataset\\venv\\lib\\site-packages\\xgboost\\data.py:520: FutureWarning: is_sparse is deprecated and will be removed in a future version. Check `isinstance(dtype, pd.SparseDtype)` instead.\n",
      "c:\\GitHub\\Binary-Classification-with-a-Software-Defects-Dataset\\venv\\lib\\site-packages\\xgboost\\data.py:520: FutureWarning: is_sparse is deprecated and will be removed in a future version. Check `isinstance(dtype, pd.SparseDtype)` instead.\n",
      "c:\\GitHub\\Binary-Classification-with-a-Software-Defects-Dataset\\venv\\lib\\site-packages\\xgboost\\data.py:520: FutureWarning: is_sparse is deprecated and will be removed in a future version. Check `isinstance(dtype, pd.SparseDtype)` instead.\n",
      "c:\\GitHub\\Binary-Classification-with-a-Software-Defects-Dataset\\venv\\lib\\site-packages\\xgboost\\data.py:520: FutureWarning: is_sparse is deprecated and will be removed in a future version. Check `isinstance(dtype, pd.SparseDtype)` instead.\n",
      "c:\\GitHub\\Binary-Classification-with-a-Software-Defects-Dataset\\venv\\lib\\site-packages\\xgboost\\data.py:520: FutureWarning: is_sparse is deprecated and will be removed in a future version. Check `isinstance(dtype, pd.SparseDtype)` instead.\n",
      "c:\\GitHub\\Binary-Classification-with-a-Software-Defects-Dataset\\venv\\lib\\site-packages\\xgboost\\data.py:520: FutureWarning: is_sparse is deprecated and will be removed in a future version. Check `isinstance(dtype, pd.SparseDtype)` instead.\n",
      "c:\\GitHub\\Binary-Classification-with-a-Software-Defects-Dataset\\venv\\lib\\site-packages\\xgboost\\data.py:520: FutureWarning: is_sparse is deprecated and will be removed in a future version. Check `isinstance(dtype, pd.SparseDtype)` instead.\n",
      "c:\\GitHub\\Binary-Classification-with-a-Software-Defects-Dataset\\venv\\lib\\site-packages\\xgboost\\data.py:520: FutureWarning: is_sparse is deprecated and will be removed in a future version. Check `isinstance(dtype, pd.SparseDtype)` instead.\n",
      "c:\\GitHub\\Binary-Classification-with-a-Software-Defects-Dataset\\venv\\lib\\site-packages\\xgboost\\data.py:520: FutureWarning: is_sparse is deprecated and will be removed in a future version. Check `isinstance(dtype, pd.SparseDtype)` instead.\n"
     ]
    },
    {
     "name": "stdout",
     "output_type": "stream",
     "text": [
      "5_Default_Xgboost auc 0.792059 trained in 31.99 seconds\n",
      "6_Default_CatBoost auc 0.792043 trained in 46.58 seconds\n",
      "7_Default_NeuralNetwork auc 0.783989 trained in 135.7 seconds\n"
     ]
    },
    {
     "name": "stderr",
     "output_type": "stream",
     "text": [
      "c:\\GitHub\\Binary-Classification-with-a-Software-Defects-Dataset\\venv\\lib\\site-packages\\supervised\\utils\\learning_curves.py:113: FutureWarning: The behavior of Series.argmax/argmin with skipna=False and NAs, or with all-NAs is deprecated. In a future version this will raise ValueError.\n",
      "c:\\GitHub\\Binary-Classification-with-a-Software-Defects-Dataset\\venv\\lib\\site-packages\\supervised\\utils\\learning_curves.py:113: FutureWarning: The behavior of Series.argmax/argmin with skipna=False and NAs, or with all-NAs is deprecated. In a future version this will raise ValueError.\n",
      "c:\\GitHub\\Binary-Classification-with-a-Software-Defects-Dataset\\venv\\lib\\site-packages\\supervised\\utils\\learning_curves.py:113: FutureWarning: The behavior of Series.argmax/argmin with skipna=False and NAs, or with all-NAs is deprecated. In a future version this will raise ValueError.\n",
      "c:\\GitHub\\Binary-Classification-with-a-Software-Defects-Dataset\\venv\\lib\\site-packages\\supervised\\utils\\learning_curves.py:113: FutureWarning: The behavior of Series.argmax/argmin with skipna=False and NAs, or with all-NAs is deprecated. In a future version this will raise ValueError.\n",
      "c:\\GitHub\\Binary-Classification-with-a-Software-Defects-Dataset\\venv\\lib\\site-packages\\supervised\\utils\\learning_curves.py:113: FutureWarning: The behavior of Series.argmax/argmin with skipna=False and NAs, or with all-NAs is deprecated. In a future version this will raise ValueError.\n",
      "c:\\GitHub\\Binary-Classification-with-a-Software-Defects-Dataset\\venv\\lib\\site-packages\\supervised\\utils\\learning_curves.py:113: FutureWarning: The behavior of Series.argmax/argmin with skipna=False and NAs, or with all-NAs is deprecated. In a future version this will raise ValueError.\n",
      "c:\\GitHub\\Binary-Classification-with-a-Software-Defects-Dataset\\venv\\lib\\site-packages\\supervised\\utils\\learning_curves.py:113: FutureWarning: The behavior of Series.argmax/argmin with skipna=False and NAs, or with all-NAs is deprecated. In a future version this will raise ValueError.\n",
      "c:\\GitHub\\Binary-Classification-with-a-Software-Defects-Dataset\\venv\\lib\\site-packages\\supervised\\utils\\learning_curves.py:113: FutureWarning: The behavior of Series.argmax/argmin with skipna=False and NAs, or with all-NAs is deprecated. In a future version this will raise ValueError.\n",
      "c:\\GitHub\\Binary-Classification-with-a-Software-Defects-Dataset\\venv\\lib\\site-packages\\supervised\\utils\\learning_curves.py:113: FutureWarning: The behavior of Series.argmax/argmin with skipna=False and NAs, or with all-NAs is deprecated. In a future version this will raise ValueError.\n",
      "c:\\GitHub\\Binary-Classification-with-a-Software-Defects-Dataset\\venv\\lib\\site-packages\\supervised\\utils\\learning_curves.py:113: FutureWarning: The behavior of Series.argmax/argmin with skipna=False and NAs, or with all-NAs is deprecated. In a future version this will raise ValueError.\n"
     ]
    },
    {
     "name": "stdout",
     "output_type": "stream",
     "text": [
      "8_Default_RandomForest auc 0.788211 trained in 106.43 seconds\n",
      "9_Default_ExtraTrees auc 0.779589 trained in 44.67 seconds\n",
      "* Step not_so_random will try to check up to 54 models\n",
      "19_LightGBM auc 0.792378 trained in 25.24 seconds\n"
     ]
    },
    {
     "name": "stderr",
     "output_type": "stream",
     "text": [
      "c:\\GitHub\\Binary-Classification-with-a-Software-Defects-Dataset\\venv\\lib\\site-packages\\xgboost\\data.py:520: FutureWarning: is_sparse is deprecated and will be removed in a future version. Check `isinstance(dtype, pd.SparseDtype)` instead.\n",
      "c:\\GitHub\\Binary-Classification-with-a-Software-Defects-Dataset\\venv\\lib\\site-packages\\xgboost\\data.py:520: FutureWarning: is_sparse is deprecated and will be removed in a future version. Check `isinstance(dtype, pd.SparseDtype)` instead.\n",
      "c:\\GitHub\\Binary-Classification-with-a-Software-Defects-Dataset\\venv\\lib\\site-packages\\xgboost\\data.py:520: FutureWarning: is_sparse is deprecated and will be removed in a future version. Check `isinstance(dtype, pd.SparseDtype)` instead.\n",
      "c:\\GitHub\\Binary-Classification-with-a-Software-Defects-Dataset\\venv\\lib\\site-packages\\xgboost\\data.py:520: FutureWarning: is_sparse is deprecated and will be removed in a future version. Check `isinstance(dtype, pd.SparseDtype)` instead.\n",
      "c:\\GitHub\\Binary-Classification-with-a-Software-Defects-Dataset\\venv\\lib\\site-packages\\xgboost\\data.py:520: FutureWarning: is_sparse is deprecated and will be removed in a future version. Check `isinstance(dtype, pd.SparseDtype)` instead.\n",
      "c:\\GitHub\\Binary-Classification-with-a-Software-Defects-Dataset\\venv\\lib\\site-packages\\xgboost\\data.py:520: FutureWarning: is_sparse is deprecated and will be removed in a future version. Check `isinstance(dtype, pd.SparseDtype)` instead.\n",
      "c:\\GitHub\\Binary-Classification-with-a-Software-Defects-Dataset\\venv\\lib\\site-packages\\xgboost\\data.py:520: FutureWarning: is_sparse is deprecated and will be removed in a future version. Check `isinstance(dtype, pd.SparseDtype)` instead.\n",
      "c:\\GitHub\\Binary-Classification-with-a-Software-Defects-Dataset\\venv\\lib\\site-packages\\xgboost\\data.py:520: FutureWarning: is_sparse is deprecated and will be removed in a future version. Check `isinstance(dtype, pd.SparseDtype)` instead.\n",
      "c:\\GitHub\\Binary-Classification-with-a-Software-Defects-Dataset\\venv\\lib\\site-packages\\xgboost\\data.py:520: FutureWarning: is_sparse is deprecated and will be removed in a future version. Check `isinstance(dtype, pd.SparseDtype)` instead.\n",
      "c:\\GitHub\\Binary-Classification-with-a-Software-Defects-Dataset\\venv\\lib\\site-packages\\xgboost\\data.py:520: FutureWarning: is_sparse is deprecated and will be removed in a future version. Check `isinstance(dtype, pd.SparseDtype)` instead.\n"
     ]
    },
    {
     "name": "stdout",
     "output_type": "stream",
     "text": [
      "10_Xgboost auc 0.789057 trained in 29.84 seconds\n",
      "28_CatBoost auc 0.792188 trained in 100.07 seconds\n",
      "37_RandomForest auc 0.787705 trained in 72.74 seconds\n",
      "46_ExtraTrees auc 0.775643 trained in 63.53 seconds\n",
      "55_NeuralNetwork auc 0.782657 trained in 132.85 seconds\n"
     ]
    },
    {
     "name": "stderr",
     "output_type": "stream",
     "text": [
      "c:\\GitHub\\Binary-Classification-with-a-Software-Defects-Dataset\\venv\\lib\\site-packages\\supervised\\utils\\learning_curves.py:113: FutureWarning: The behavior of Series.argmax/argmin with skipna=False and NAs, or with all-NAs is deprecated. In a future version this will raise ValueError.\n",
      "c:\\GitHub\\Binary-Classification-with-a-Software-Defects-Dataset\\venv\\lib\\site-packages\\supervised\\utils\\learning_curves.py:113: FutureWarning: The behavior of Series.argmax/argmin with skipna=False and NAs, or with all-NAs is deprecated. In a future version this will raise ValueError.\n",
      "c:\\GitHub\\Binary-Classification-with-a-Software-Defects-Dataset\\venv\\lib\\site-packages\\supervised\\utils\\learning_curves.py:113: FutureWarning: The behavior of Series.argmax/argmin with skipna=False and NAs, or with all-NAs is deprecated. In a future version this will raise ValueError.\n",
      "c:\\GitHub\\Binary-Classification-with-a-Software-Defects-Dataset\\venv\\lib\\site-packages\\supervised\\utils\\learning_curves.py:113: FutureWarning: The behavior of Series.argmax/argmin with skipna=False and NAs, or with all-NAs is deprecated. In a future version this will raise ValueError.\n",
      "c:\\GitHub\\Binary-Classification-with-a-Software-Defects-Dataset\\venv\\lib\\site-packages\\supervised\\utils\\learning_curves.py:113: FutureWarning: The behavior of Series.argmax/argmin with skipna=False and NAs, or with all-NAs is deprecated. In a future version this will raise ValueError.\n",
      "c:\\GitHub\\Binary-Classification-with-a-Software-Defects-Dataset\\venv\\lib\\site-packages\\supervised\\utils\\learning_curves.py:113: FutureWarning: The behavior of Series.argmax/argmin with skipna=False and NAs, or with all-NAs is deprecated. In a future version this will raise ValueError.\n",
      "c:\\GitHub\\Binary-Classification-with-a-Software-Defects-Dataset\\venv\\lib\\site-packages\\supervised\\utils\\learning_curves.py:113: FutureWarning: The behavior of Series.argmax/argmin with skipna=False and NAs, or with all-NAs is deprecated. In a future version this will raise ValueError.\n",
      "c:\\GitHub\\Binary-Classification-with-a-Software-Defects-Dataset\\venv\\lib\\site-packages\\supervised\\utils\\learning_curves.py:113: FutureWarning: The behavior of Series.argmax/argmin with skipna=False and NAs, or with all-NAs is deprecated. In a future version this will raise ValueError.\n",
      "c:\\GitHub\\Binary-Classification-with-a-Software-Defects-Dataset\\venv\\lib\\site-packages\\supervised\\utils\\learning_curves.py:113: FutureWarning: The behavior of Series.argmax/argmin with skipna=False and NAs, or with all-NAs is deprecated. In a future version this will raise ValueError.\n",
      "c:\\GitHub\\Binary-Classification-with-a-Software-Defects-Dataset\\venv\\lib\\site-packages\\supervised\\utils\\learning_curves.py:113: FutureWarning: The behavior of Series.argmax/argmin with skipna=False and NAs, or with all-NAs is deprecated. In a future version this will raise ValueError.\n"
     ]
    },
    {
     "name": "stdout",
     "output_type": "stream",
     "text": [
      "20_LightGBM auc 0.790772 trained in 20.62 seconds\n"
     ]
    },
    {
     "name": "stderr",
     "output_type": "stream",
     "text": [
      "c:\\GitHub\\Binary-Classification-with-a-Software-Defects-Dataset\\venv\\lib\\site-packages\\xgboost\\data.py:520: FutureWarning: is_sparse is deprecated and will be removed in a future version. Check `isinstance(dtype, pd.SparseDtype)` instead.\n",
      "c:\\GitHub\\Binary-Classification-with-a-Software-Defects-Dataset\\venv\\lib\\site-packages\\xgboost\\data.py:520: FutureWarning: is_sparse is deprecated and will be removed in a future version. Check `isinstance(dtype, pd.SparseDtype)` instead.\n",
      "c:\\GitHub\\Binary-Classification-with-a-Software-Defects-Dataset\\venv\\lib\\site-packages\\xgboost\\data.py:520: FutureWarning: is_sparse is deprecated and will be removed in a future version. Check `isinstance(dtype, pd.SparseDtype)` instead.\n",
      "c:\\GitHub\\Binary-Classification-with-a-Software-Defects-Dataset\\venv\\lib\\site-packages\\xgboost\\data.py:520: FutureWarning: is_sparse is deprecated and will be removed in a future version. Check `isinstance(dtype, pd.SparseDtype)` instead.\n",
      "c:\\GitHub\\Binary-Classification-with-a-Software-Defects-Dataset\\venv\\lib\\site-packages\\xgboost\\data.py:520: FutureWarning: is_sparse is deprecated and will be removed in a future version. Check `isinstance(dtype, pd.SparseDtype)` instead.\n",
      "c:\\GitHub\\Binary-Classification-with-a-Software-Defects-Dataset\\venv\\lib\\site-packages\\xgboost\\data.py:520: FutureWarning: is_sparse is deprecated and will be removed in a future version. Check `isinstance(dtype, pd.SparseDtype)` instead.\n",
      "c:\\GitHub\\Binary-Classification-with-a-Software-Defects-Dataset\\venv\\lib\\site-packages\\xgboost\\data.py:520: FutureWarning: is_sparse is deprecated and will be removed in a future version. Check `isinstance(dtype, pd.SparseDtype)` instead.\n",
      "c:\\GitHub\\Binary-Classification-with-a-Software-Defects-Dataset\\venv\\lib\\site-packages\\xgboost\\data.py:520: FutureWarning: is_sparse is deprecated and will be removed in a future version. Check `isinstance(dtype, pd.SparseDtype)` instead.\n",
      "c:\\GitHub\\Binary-Classification-with-a-Software-Defects-Dataset\\venv\\lib\\site-packages\\xgboost\\data.py:520: FutureWarning: is_sparse is deprecated and will be removed in a future version. Check `isinstance(dtype, pd.SparseDtype)` instead.\n",
      "c:\\GitHub\\Binary-Classification-with-a-Software-Defects-Dataset\\venv\\lib\\site-packages\\xgboost\\data.py:520: FutureWarning: is_sparse is deprecated and will be removed in a future version. Check `isinstance(dtype, pd.SparseDtype)` instead.\n"
     ]
    },
    {
     "name": "stdout",
     "output_type": "stream",
     "text": [
      "11_Xgboost auc 0.788099 trained in 28.42 seconds\n",
      "29_CatBoost auc 0.792061 trained in 56.72 seconds\n",
      "38_RandomForest auc 0.791212 trained in 126.68 seconds\n",
      "47_ExtraTrees auc 0.782846 trained in 94.92 seconds\n",
      "56_NeuralNetwork auc 0.787653 trained in 279.65 seconds\n"
     ]
    },
    {
     "name": "stderr",
     "output_type": "stream",
     "text": [
      "c:\\GitHub\\Binary-Classification-with-a-Software-Defects-Dataset\\venv\\lib\\site-packages\\supervised\\utils\\learning_curves.py:113: FutureWarning: The behavior of Series.argmax/argmin with skipna=False and NAs, or with all-NAs is deprecated. In a future version this will raise ValueError.\n",
      "c:\\GitHub\\Binary-Classification-with-a-Software-Defects-Dataset\\venv\\lib\\site-packages\\supervised\\utils\\learning_curves.py:113: FutureWarning: The behavior of Series.argmax/argmin with skipna=False and NAs, or with all-NAs is deprecated. In a future version this will raise ValueError.\n",
      "c:\\GitHub\\Binary-Classification-with-a-Software-Defects-Dataset\\venv\\lib\\site-packages\\supervised\\utils\\learning_curves.py:113: FutureWarning: The behavior of Series.argmax/argmin with skipna=False and NAs, or with all-NAs is deprecated. In a future version this will raise ValueError.\n",
      "c:\\GitHub\\Binary-Classification-with-a-Software-Defects-Dataset\\venv\\lib\\site-packages\\supervised\\utils\\learning_curves.py:113: FutureWarning: The behavior of Series.argmax/argmin with skipna=False and NAs, or with all-NAs is deprecated. In a future version this will raise ValueError.\n",
      "c:\\GitHub\\Binary-Classification-with-a-Software-Defects-Dataset\\venv\\lib\\site-packages\\supervised\\utils\\learning_curves.py:113: FutureWarning: The behavior of Series.argmax/argmin with skipna=False and NAs, or with all-NAs is deprecated. In a future version this will raise ValueError.\n",
      "c:\\GitHub\\Binary-Classification-with-a-Software-Defects-Dataset\\venv\\lib\\site-packages\\supervised\\utils\\learning_curves.py:113: FutureWarning: The behavior of Series.argmax/argmin with skipna=False and NAs, or with all-NAs is deprecated. In a future version this will raise ValueError.\n",
      "c:\\GitHub\\Binary-Classification-with-a-Software-Defects-Dataset\\venv\\lib\\site-packages\\supervised\\utils\\learning_curves.py:113: FutureWarning: The behavior of Series.argmax/argmin with skipna=False and NAs, or with all-NAs is deprecated. In a future version this will raise ValueError.\n",
      "c:\\GitHub\\Binary-Classification-with-a-Software-Defects-Dataset\\venv\\lib\\site-packages\\supervised\\utils\\learning_curves.py:113: FutureWarning: The behavior of Series.argmax/argmin with skipna=False and NAs, or with all-NAs is deprecated. In a future version this will raise ValueError.\n",
      "c:\\GitHub\\Binary-Classification-with-a-Software-Defects-Dataset\\venv\\lib\\site-packages\\supervised\\utils\\learning_curves.py:113: FutureWarning: The behavior of Series.argmax/argmin with skipna=False and NAs, or with all-NAs is deprecated. In a future version this will raise ValueError.\n",
      "c:\\GitHub\\Binary-Classification-with-a-Software-Defects-Dataset\\venv\\lib\\site-packages\\supervised\\utils\\learning_curves.py:113: FutureWarning: The behavior of Series.argmax/argmin with skipna=False and NAs, or with all-NAs is deprecated. In a future version this will raise ValueError.\n"
     ]
    },
    {
     "name": "stdout",
     "output_type": "stream",
     "text": [
      "21_LightGBM auc 0.789811 trained in 38.63 seconds\n"
     ]
    },
    {
     "name": "stderr",
     "output_type": "stream",
     "text": [
      "c:\\GitHub\\Binary-Classification-with-a-Software-Defects-Dataset\\venv\\lib\\site-packages\\xgboost\\data.py:520: FutureWarning: is_sparse is deprecated and will be removed in a future version. Check `isinstance(dtype, pd.SparseDtype)` instead.\n",
      "c:\\GitHub\\Binary-Classification-with-a-Software-Defects-Dataset\\venv\\lib\\site-packages\\xgboost\\data.py:520: FutureWarning: is_sparse is deprecated and will be removed in a future version. Check `isinstance(dtype, pd.SparseDtype)` instead.\n",
      "c:\\GitHub\\Binary-Classification-with-a-Software-Defects-Dataset\\venv\\lib\\site-packages\\xgboost\\data.py:520: FutureWarning: is_sparse is deprecated and will be removed in a future version. Check `isinstance(dtype, pd.SparseDtype)` instead.\n",
      "c:\\GitHub\\Binary-Classification-with-a-Software-Defects-Dataset\\venv\\lib\\site-packages\\xgboost\\data.py:520: FutureWarning: is_sparse is deprecated and will be removed in a future version. Check `isinstance(dtype, pd.SparseDtype)` instead.\n",
      "c:\\GitHub\\Binary-Classification-with-a-Software-Defects-Dataset\\venv\\lib\\site-packages\\xgboost\\data.py:520: FutureWarning: is_sparse is deprecated and will be removed in a future version. Check `isinstance(dtype, pd.SparseDtype)` instead.\n",
      "c:\\GitHub\\Binary-Classification-with-a-Software-Defects-Dataset\\venv\\lib\\site-packages\\xgboost\\data.py:520: FutureWarning: is_sparse is deprecated and will be removed in a future version. Check `isinstance(dtype, pd.SparseDtype)` instead.\n",
      "c:\\GitHub\\Binary-Classification-with-a-Software-Defects-Dataset\\venv\\lib\\site-packages\\xgboost\\data.py:520: FutureWarning: is_sparse is deprecated and will be removed in a future version. Check `isinstance(dtype, pd.SparseDtype)` instead.\n",
      "c:\\GitHub\\Binary-Classification-with-a-Software-Defects-Dataset\\venv\\lib\\site-packages\\xgboost\\data.py:520: FutureWarning: is_sparse is deprecated and will be removed in a future version. Check `isinstance(dtype, pd.SparseDtype)` instead.\n",
      "c:\\GitHub\\Binary-Classification-with-a-Software-Defects-Dataset\\venv\\lib\\site-packages\\xgboost\\data.py:520: FutureWarning: is_sparse is deprecated and will be removed in a future version. Check `isinstance(dtype, pd.SparseDtype)` instead.\n",
      "c:\\GitHub\\Binary-Classification-with-a-Software-Defects-Dataset\\venv\\lib\\site-packages\\xgboost\\data.py:520: FutureWarning: is_sparse is deprecated and will be removed in a future version. Check `isinstance(dtype, pd.SparseDtype)` instead.\n"
     ]
    },
    {
     "name": "stdout",
     "output_type": "stream",
     "text": [
      "12_Xgboost auc 0.792478 trained in 40.82 seconds\n",
      "30_CatBoost auc 0.791918 trained in 64.86 seconds\n",
      "39_RandomForest auc 0.786385 trained in 126.56 seconds\n",
      "48_ExtraTrees auc 0.776056 trained in 64.82 seconds\n",
      "* Step golden_features will try to check up to 3 models\n",
      "None 10\n",
      "Add Golden Feature: feature_4_sum_feature_1\n",
      "Add Golden Feature: feature_3_sum_feature_1\n",
      "Add Golden Feature: feature_2_sum_feature_1\n",
      "Add Golden Feature: feature_1_diff_feature_16\n",
      "Add Golden Feature: feature_1_diff_feature_7\n",
      "Add Golden Feature: feature_1_diff_feature_14\n",
      "Add Golden Feature: feature_15_sum_feature_1\n",
      "Add Golden Feature: feature_1_diff_feature_3\n",
      "Add Golden Feature: feature_11_sum_feature_1\n",
      "Add Golden Feature: feature_16_sum_feature_1\n",
      "Created 10 Golden Features in 10.9 seconds.\n"
     ]
    },
    {
     "name": "stderr",
     "output_type": "stream",
     "text": [
      "c:\\GitHub\\Binary-Classification-with-a-Software-Defects-Dataset\\venv\\lib\\site-packages\\xgboost\\data.py:520: FutureWarning: is_sparse is deprecated and will be removed in a future version. Check `isinstance(dtype, pd.SparseDtype)` instead.\n",
      "c:\\GitHub\\Binary-Classification-with-a-Software-Defects-Dataset\\venv\\lib\\site-packages\\xgboost\\data.py:520: FutureWarning: is_sparse is deprecated and will be removed in a future version. Check `isinstance(dtype, pd.SparseDtype)` instead.\n",
      "c:\\GitHub\\Binary-Classification-with-a-Software-Defects-Dataset\\venv\\lib\\site-packages\\xgboost\\data.py:520: FutureWarning: is_sparse is deprecated and will be removed in a future version. Check `isinstance(dtype, pd.SparseDtype)` instead.\n",
      "c:\\GitHub\\Binary-Classification-with-a-Software-Defects-Dataset\\venv\\lib\\site-packages\\xgboost\\data.py:520: FutureWarning: is_sparse is deprecated and will be removed in a future version. Check `isinstance(dtype, pd.SparseDtype)` instead.\n",
      "c:\\GitHub\\Binary-Classification-with-a-Software-Defects-Dataset\\venv\\lib\\site-packages\\xgboost\\data.py:520: FutureWarning: is_sparse is deprecated and will be removed in a future version. Check `isinstance(dtype, pd.SparseDtype)` instead.\n",
      "c:\\GitHub\\Binary-Classification-with-a-Software-Defects-Dataset\\venv\\lib\\site-packages\\xgboost\\data.py:520: FutureWarning: is_sparse is deprecated and will be removed in a future version. Check `isinstance(dtype, pd.SparseDtype)` instead.\n",
      "c:\\GitHub\\Binary-Classification-with-a-Software-Defects-Dataset\\venv\\lib\\site-packages\\xgboost\\data.py:520: FutureWarning: is_sparse is deprecated and will be removed in a future version. Check `isinstance(dtype, pd.SparseDtype)` instead.\n",
      "c:\\GitHub\\Binary-Classification-with-a-Software-Defects-Dataset\\venv\\lib\\site-packages\\xgboost\\data.py:520: FutureWarning: is_sparse is deprecated and will be removed in a future version. Check `isinstance(dtype, pd.SparseDtype)` instead.\n",
      "c:\\GitHub\\Binary-Classification-with-a-Software-Defects-Dataset\\venv\\lib\\site-packages\\xgboost\\data.py:520: FutureWarning: is_sparse is deprecated and will be removed in a future version. Check `isinstance(dtype, pd.SparseDtype)` instead.\n",
      "c:\\GitHub\\Binary-Classification-with-a-Software-Defects-Dataset\\venv\\lib\\site-packages\\xgboost\\data.py:520: FutureWarning: is_sparse is deprecated and will be removed in a future version. Check `isinstance(dtype, pd.SparseDtype)` instead.\n"
     ]
    },
    {
     "name": "stdout",
     "output_type": "stream",
     "text": [
      "12_Xgboost_GoldenFeatures auc 0.791649 trained in 56.87 seconds\n",
      "19_LightGBM_GoldenFeatures auc 0.792034 trained in 50.48 seconds\n",
      "* Step kmeans_features will try to check up to 3 models\n"
     ]
    },
    {
     "name": "stderr",
     "output_type": "stream",
     "text": [
      "c:\\GitHub\\Binary-Classification-with-a-Software-Defects-Dataset\\venv\\lib\\site-packages\\sklearn\\cluster\\_kmeans.py:1934: FutureWarning: The default value of `n_init` will change from 3 to 'auto' in 1.4. Set the value of `n_init` explicitly to suppress the warning\n",
      "c:\\GitHub\\Binary-Classification-with-a-Software-Defects-Dataset\\venv\\lib\\site-packages\\xgboost\\data.py:520: FutureWarning: is_sparse is deprecated and will be removed in a future version. Check `isinstance(dtype, pd.SparseDtype)` instead.\n",
      "c:\\GitHub\\Binary-Classification-with-a-Software-Defects-Dataset\\venv\\lib\\site-packages\\sklearn\\cluster\\_kmeans.py:1934: FutureWarning: The default value of `n_init` will change from 3 to 'auto' in 1.4. Set the value of `n_init` explicitly to suppress the warning\n",
      "c:\\GitHub\\Binary-Classification-with-a-Software-Defects-Dataset\\venv\\lib\\site-packages\\xgboost\\data.py:520: FutureWarning: is_sparse is deprecated and will be removed in a future version. Check `isinstance(dtype, pd.SparseDtype)` instead.\n",
      "c:\\GitHub\\Binary-Classification-with-a-Software-Defects-Dataset\\venv\\lib\\site-packages\\sklearn\\cluster\\_kmeans.py:1934: FutureWarning: The default value of `n_init` will change from 3 to 'auto' in 1.4. Set the value of `n_init` explicitly to suppress the warning\n",
      "c:\\GitHub\\Binary-Classification-with-a-Software-Defects-Dataset\\venv\\lib\\site-packages\\xgboost\\data.py:520: FutureWarning: is_sparse is deprecated and will be removed in a future version. Check `isinstance(dtype, pd.SparseDtype)` instead.\n",
      "c:\\GitHub\\Binary-Classification-with-a-Software-Defects-Dataset\\venv\\lib\\site-packages\\sklearn\\cluster\\_kmeans.py:1934: FutureWarning: The default value of `n_init` will change from 3 to 'auto' in 1.4. Set the value of `n_init` explicitly to suppress the warning\n",
      "c:\\GitHub\\Binary-Classification-with-a-Software-Defects-Dataset\\venv\\lib\\site-packages\\xgboost\\data.py:520: FutureWarning: is_sparse is deprecated and will be removed in a future version. Check `isinstance(dtype, pd.SparseDtype)` instead.\n",
      "c:\\GitHub\\Binary-Classification-with-a-Software-Defects-Dataset\\venv\\lib\\site-packages\\sklearn\\cluster\\_kmeans.py:1934: FutureWarning: The default value of `n_init` will change from 3 to 'auto' in 1.4. Set the value of `n_init` explicitly to suppress the warning\n",
      "c:\\GitHub\\Binary-Classification-with-a-Software-Defects-Dataset\\venv\\lib\\site-packages\\xgboost\\data.py:520: FutureWarning: is_sparse is deprecated and will be removed in a future version. Check `isinstance(dtype, pd.SparseDtype)` instead.\n",
      "c:\\GitHub\\Binary-Classification-with-a-Software-Defects-Dataset\\venv\\lib\\site-packages\\sklearn\\cluster\\_kmeans.py:1934: FutureWarning: The default value of `n_init` will change from 3 to 'auto' in 1.4. Set the value of `n_init` explicitly to suppress the warning\n",
      "c:\\GitHub\\Binary-Classification-with-a-Software-Defects-Dataset\\venv\\lib\\site-packages\\xgboost\\data.py:520: FutureWarning: is_sparse is deprecated and will be removed in a future version. Check `isinstance(dtype, pd.SparseDtype)` instead.\n",
      "c:\\GitHub\\Binary-Classification-with-a-Software-Defects-Dataset\\venv\\lib\\site-packages\\sklearn\\cluster\\_kmeans.py:1934: FutureWarning: The default value of `n_init` will change from 3 to 'auto' in 1.4. Set the value of `n_init` explicitly to suppress the warning\n",
      "c:\\GitHub\\Binary-Classification-with-a-Software-Defects-Dataset\\venv\\lib\\site-packages\\xgboost\\data.py:520: FutureWarning: is_sparse is deprecated and will be removed in a future version. Check `isinstance(dtype, pd.SparseDtype)` instead.\n",
      "c:\\GitHub\\Binary-Classification-with-a-Software-Defects-Dataset\\venv\\lib\\site-packages\\sklearn\\cluster\\_kmeans.py:1934: FutureWarning: The default value of `n_init` will change from 3 to 'auto' in 1.4. Set the value of `n_init` explicitly to suppress the warning\n",
      "c:\\GitHub\\Binary-Classification-with-a-Software-Defects-Dataset\\venv\\lib\\site-packages\\xgboost\\data.py:520: FutureWarning: is_sparse is deprecated and will be removed in a future version. Check `isinstance(dtype, pd.SparseDtype)` instead.\n",
      "c:\\GitHub\\Binary-Classification-with-a-Software-Defects-Dataset\\venv\\lib\\site-packages\\sklearn\\cluster\\_kmeans.py:1934: FutureWarning: The default value of `n_init` will change from 3 to 'auto' in 1.4. Set the value of `n_init` explicitly to suppress the warning\n",
      "c:\\GitHub\\Binary-Classification-with-a-Software-Defects-Dataset\\venv\\lib\\site-packages\\xgboost\\data.py:520: FutureWarning: is_sparse is deprecated and will be removed in a future version. Check `isinstance(dtype, pd.SparseDtype)` instead.\n",
      "c:\\GitHub\\Binary-Classification-with-a-Software-Defects-Dataset\\venv\\lib\\site-packages\\sklearn\\cluster\\_kmeans.py:1934: FutureWarning: The default value of `n_init` will change from 3 to 'auto' in 1.4. Set the value of `n_init` explicitly to suppress the warning\n",
      "c:\\GitHub\\Binary-Classification-with-a-Software-Defects-Dataset\\venv\\lib\\site-packages\\xgboost\\data.py:520: FutureWarning: is_sparse is deprecated and will be removed in a future version. Check `isinstance(dtype, pd.SparseDtype)` instead.\n"
     ]
    },
    {
     "name": "stdout",
     "output_type": "stream",
     "text": [
      "12_Xgboost_KMeansFeatures auc 0.789208 trained in 51.48 seconds\n"
     ]
    },
    {
     "name": "stderr",
     "output_type": "stream",
     "text": [
      "c:\\GitHub\\Binary-Classification-with-a-Software-Defects-Dataset\\venv\\lib\\site-packages\\sklearn\\cluster\\_kmeans.py:1934: FutureWarning: The default value of `n_init` will change from 3 to 'auto' in 1.4. Set the value of `n_init` explicitly to suppress the warning\n",
      "c:\\GitHub\\Binary-Classification-with-a-Software-Defects-Dataset\\venv\\lib\\site-packages\\sklearn\\cluster\\_kmeans.py:1934: FutureWarning: The default value of `n_init` will change from 3 to 'auto' in 1.4. Set the value of `n_init` explicitly to suppress the warning\n",
      "c:\\GitHub\\Binary-Classification-with-a-Software-Defects-Dataset\\venv\\lib\\site-packages\\sklearn\\cluster\\_kmeans.py:1934: FutureWarning: The default value of `n_init` will change from 3 to 'auto' in 1.4. Set the value of `n_init` explicitly to suppress the warning\n",
      "c:\\GitHub\\Binary-Classification-with-a-Software-Defects-Dataset\\venv\\lib\\site-packages\\sklearn\\cluster\\_kmeans.py:1934: FutureWarning: The default value of `n_init` will change from 3 to 'auto' in 1.4. Set the value of `n_init` explicitly to suppress the warning\n",
      "c:\\GitHub\\Binary-Classification-with-a-Software-Defects-Dataset\\venv\\lib\\site-packages\\sklearn\\cluster\\_kmeans.py:1934: FutureWarning: The default value of `n_init` will change from 3 to 'auto' in 1.4. Set the value of `n_init` explicitly to suppress the warning\n",
      "c:\\GitHub\\Binary-Classification-with-a-Software-Defects-Dataset\\venv\\lib\\site-packages\\sklearn\\cluster\\_kmeans.py:1934: FutureWarning: The default value of `n_init` will change from 3 to 'auto' in 1.4. Set the value of `n_init` explicitly to suppress the warning\n",
      "c:\\GitHub\\Binary-Classification-with-a-Software-Defects-Dataset\\venv\\lib\\site-packages\\sklearn\\cluster\\_kmeans.py:1934: FutureWarning: The default value of `n_init` will change from 3 to 'auto' in 1.4. Set the value of `n_init` explicitly to suppress the warning\n",
      "c:\\GitHub\\Binary-Classification-with-a-Software-Defects-Dataset\\venv\\lib\\site-packages\\sklearn\\cluster\\_kmeans.py:1934: FutureWarning: The default value of `n_init` will change from 3 to 'auto' in 1.4. Set the value of `n_init` explicitly to suppress the warning\n",
      "c:\\GitHub\\Binary-Classification-with-a-Software-Defects-Dataset\\venv\\lib\\site-packages\\sklearn\\cluster\\_kmeans.py:1934: FutureWarning: The default value of `n_init` will change from 3 to 'auto' in 1.4. Set the value of `n_init` explicitly to suppress the warning\n",
      "c:\\GitHub\\Binary-Classification-with-a-Software-Defects-Dataset\\venv\\lib\\site-packages\\sklearn\\cluster\\_kmeans.py:1934: FutureWarning: The default value of `n_init` will change from 3 to 'auto' in 1.4. Set the value of `n_init` explicitly to suppress the warning\n"
     ]
    },
    {
     "name": "stdout",
     "output_type": "stream",
     "text": [
      "19_LightGBM_KMeansFeatures auc 0.791761 trained in 44.21 seconds\n"
     ]
    },
    {
     "name": "stderr",
     "output_type": "stream",
     "text": [
      "c:\\GitHub\\Binary-Classification-with-a-Software-Defects-Dataset\\venv\\lib\\site-packages\\sklearn\\cluster\\_kmeans.py:1934: FutureWarning: The default value of `n_init` will change from 3 to 'auto' in 1.4. Set the value of `n_init` explicitly to suppress the warning\n",
      "c:\\GitHub\\Binary-Classification-with-a-Software-Defects-Dataset\\venv\\lib\\site-packages\\sklearn\\cluster\\_kmeans.py:1934: FutureWarning: The default value of `n_init` will change from 3 to 'auto' in 1.4. Set the value of `n_init` explicitly to suppress the warning\n",
      "c:\\GitHub\\Binary-Classification-with-a-Software-Defects-Dataset\\venv\\lib\\site-packages\\sklearn\\cluster\\_kmeans.py:1934: FutureWarning: The default value of `n_init` will change from 3 to 'auto' in 1.4. Set the value of `n_init` explicitly to suppress the warning\n",
      "c:\\GitHub\\Binary-Classification-with-a-Software-Defects-Dataset\\venv\\lib\\site-packages\\sklearn\\cluster\\_kmeans.py:1934: FutureWarning: The default value of `n_init` will change from 3 to 'auto' in 1.4. Set the value of `n_init` explicitly to suppress the warning\n",
      "c:\\GitHub\\Binary-Classification-with-a-Software-Defects-Dataset\\venv\\lib\\site-packages\\sklearn\\cluster\\_kmeans.py:1934: FutureWarning: The default value of `n_init` will change from 3 to 'auto' in 1.4. Set the value of `n_init` explicitly to suppress the warning\n",
      "c:\\GitHub\\Binary-Classification-with-a-Software-Defects-Dataset\\venv\\lib\\site-packages\\sklearn\\cluster\\_kmeans.py:1934: FutureWarning: The default value of `n_init` will change from 3 to 'auto' in 1.4. Set the value of `n_init` explicitly to suppress the warning\n",
      "c:\\GitHub\\Binary-Classification-with-a-Software-Defects-Dataset\\venv\\lib\\site-packages\\sklearn\\cluster\\_kmeans.py:1934: FutureWarning: The default value of `n_init` will change from 3 to 'auto' in 1.4. Set the value of `n_init` explicitly to suppress the warning\n",
      "c:\\GitHub\\Binary-Classification-with-a-Software-Defects-Dataset\\venv\\lib\\site-packages\\sklearn\\cluster\\_kmeans.py:1934: FutureWarning: The default value of `n_init` will change from 3 to 'auto' in 1.4. Set the value of `n_init` explicitly to suppress the warning\n",
      "c:\\GitHub\\Binary-Classification-with-a-Software-Defects-Dataset\\venv\\lib\\site-packages\\sklearn\\cluster\\_kmeans.py:1934: FutureWarning: The default value of `n_init` will change from 3 to 'auto' in 1.4. Set the value of `n_init` explicitly to suppress the warning\n",
      "c:\\GitHub\\Binary-Classification-with-a-Software-Defects-Dataset\\venv\\lib\\site-packages\\sklearn\\cluster\\_kmeans.py:1934: FutureWarning: The default value of `n_init` will change from 3 to 'auto' in 1.4. Set the value of `n_init` explicitly to suppress the warning\n"
     ]
    },
    {
     "name": "stdout",
     "output_type": "stream",
     "text": [
      "28_CatBoost_KMeansFeatures auc 0.791519 trained in 163.35 seconds\n",
      "Not enough time to perform features selection. Skip\n",
      "Time needed for features selection ~ 718.0 seconds\n",
      "Please increase total_time_limit to at least (7236 seconds) to have features selection\n",
      "Skip insert_random_feature because no parameters were generated.\n",
      "Skip features_selection because no parameters were generated.\n",
      "* Step hill_climbing_1 will try to check up to 32 models\n"
     ]
    },
    {
     "name": "stderr",
     "output_type": "stream",
     "text": [
      "c:\\GitHub\\Binary-Classification-with-a-Software-Defects-Dataset\\venv\\lib\\site-packages\\xgboost\\data.py:520: FutureWarning: is_sparse is deprecated and will be removed in a future version. Check `isinstance(dtype, pd.SparseDtype)` instead.\n",
      "c:\\GitHub\\Binary-Classification-with-a-Software-Defects-Dataset\\venv\\lib\\site-packages\\xgboost\\data.py:520: FutureWarning: is_sparse is deprecated and will be removed in a future version. Check `isinstance(dtype, pd.SparseDtype)` instead.\n",
      "c:\\GitHub\\Binary-Classification-with-a-Software-Defects-Dataset\\venv\\lib\\site-packages\\xgboost\\data.py:520: FutureWarning: is_sparse is deprecated and will be removed in a future version. Check `isinstance(dtype, pd.SparseDtype)` instead.\n",
      "c:\\GitHub\\Binary-Classification-with-a-Software-Defects-Dataset\\venv\\lib\\site-packages\\xgboost\\data.py:520: FutureWarning: is_sparse is deprecated and will be removed in a future version. Check `isinstance(dtype, pd.SparseDtype)` instead.\n",
      "c:\\GitHub\\Binary-Classification-with-a-Software-Defects-Dataset\\venv\\lib\\site-packages\\xgboost\\data.py:520: FutureWarning: is_sparse is deprecated and will be removed in a future version. Check `isinstance(dtype, pd.SparseDtype)` instead.\n",
      "c:\\GitHub\\Binary-Classification-with-a-Software-Defects-Dataset\\venv\\lib\\site-packages\\xgboost\\data.py:520: FutureWarning: is_sparse is deprecated and will be removed in a future version. Check `isinstance(dtype, pd.SparseDtype)` instead.\n",
      "c:\\GitHub\\Binary-Classification-with-a-Software-Defects-Dataset\\venv\\lib\\site-packages\\xgboost\\data.py:520: FutureWarning: is_sparse is deprecated and will be removed in a future version. Check `isinstance(dtype, pd.SparseDtype)` instead.\n",
      "c:\\GitHub\\Binary-Classification-with-a-Software-Defects-Dataset\\venv\\lib\\site-packages\\xgboost\\data.py:520: FutureWarning: is_sparse is deprecated and will be removed in a future version. Check `isinstance(dtype, pd.SparseDtype)` instead.\n",
      "c:\\GitHub\\Binary-Classification-with-a-Software-Defects-Dataset\\venv\\lib\\site-packages\\xgboost\\data.py:520: FutureWarning: is_sparse is deprecated and will be removed in a future version. Check `isinstance(dtype, pd.SparseDtype)` instead.\n",
      "c:\\GitHub\\Binary-Classification-with-a-Software-Defects-Dataset\\venv\\lib\\site-packages\\xgboost\\data.py:520: FutureWarning: is_sparse is deprecated and will be removed in a future version. Check `isinstance(dtype, pd.SparseDtype)` instead.\n"
     ]
    },
    {
     "name": "stdout",
     "output_type": "stream",
     "text": [
      "57_Xgboost auc 0.792257 trained in 41.63 seconds\n"
     ]
    },
    {
     "name": "stderr",
     "output_type": "stream",
     "text": [
      "c:\\GitHub\\Binary-Classification-with-a-Software-Defects-Dataset\\venv\\lib\\site-packages\\xgboost\\data.py:520: FutureWarning: is_sparse is deprecated and will be removed in a future version. Check `isinstance(dtype, pd.SparseDtype)` instead.\n",
      "c:\\GitHub\\Binary-Classification-with-a-Software-Defects-Dataset\\venv\\lib\\site-packages\\xgboost\\data.py:520: FutureWarning: is_sparse is deprecated and will be removed in a future version. Check `isinstance(dtype, pd.SparseDtype)` instead.\n",
      "c:\\GitHub\\Binary-Classification-with-a-Software-Defects-Dataset\\venv\\lib\\site-packages\\xgboost\\data.py:520: FutureWarning: is_sparse is deprecated and will be removed in a future version. Check `isinstance(dtype, pd.SparseDtype)` instead.\n",
      "c:\\GitHub\\Binary-Classification-with-a-Software-Defects-Dataset\\venv\\lib\\site-packages\\xgboost\\data.py:520: FutureWarning: is_sparse is deprecated and will be removed in a future version. Check `isinstance(dtype, pd.SparseDtype)` instead.\n",
      "c:\\GitHub\\Binary-Classification-with-a-Software-Defects-Dataset\\venv\\lib\\site-packages\\xgboost\\data.py:520: FutureWarning: is_sparse is deprecated and will be removed in a future version. Check `isinstance(dtype, pd.SparseDtype)` instead.\n",
      "c:\\GitHub\\Binary-Classification-with-a-Software-Defects-Dataset\\venv\\lib\\site-packages\\xgboost\\data.py:520: FutureWarning: is_sparse is deprecated and will be removed in a future version. Check `isinstance(dtype, pd.SparseDtype)` instead.\n",
      "c:\\GitHub\\Binary-Classification-with-a-Software-Defects-Dataset\\venv\\lib\\site-packages\\xgboost\\data.py:520: FutureWarning: is_sparse is deprecated and will be removed in a future version. Check `isinstance(dtype, pd.SparseDtype)` instead.\n",
      "c:\\GitHub\\Binary-Classification-with-a-Software-Defects-Dataset\\venv\\lib\\site-packages\\xgboost\\data.py:520: FutureWarning: is_sparse is deprecated and will be removed in a future version. Check `isinstance(dtype, pd.SparseDtype)` instead.\n",
      "c:\\GitHub\\Binary-Classification-with-a-Software-Defects-Dataset\\venv\\lib\\site-packages\\xgboost\\data.py:520: FutureWarning: is_sparse is deprecated and will be removed in a future version. Check `isinstance(dtype, pd.SparseDtype)` instead.\n",
      "c:\\GitHub\\Binary-Classification-with-a-Software-Defects-Dataset\\venv\\lib\\site-packages\\xgboost\\data.py:520: FutureWarning: is_sparse is deprecated and will be removed in a future version. Check `isinstance(dtype, pd.SparseDtype)` instead.\n"
     ]
    },
    {
     "name": "stdout",
     "output_type": "stream",
     "text": [
      "58_Xgboost auc 0.792388 trained in 41.53 seconds\n",
      "59_LightGBM auc 0.792378 trained in 42.88 seconds\n",
      "60_CatBoost auc 0.791885 trained in 124.46 seconds\n",
      "61_CatBoost auc 0.792192 trained in 130.29 seconds\n",
      "62_CatBoost auc 0.791969 trained in 78.9 seconds\n",
      "* Step hill_climbing_2 will try to check up to 31 models\n"
     ]
    },
    {
     "name": "stderr",
     "output_type": "stream",
     "text": [
      "c:\\GitHub\\Binary-Classification-with-a-Software-Defects-Dataset\\venv\\lib\\site-packages\\xgboost\\data.py:520: FutureWarning: is_sparse is deprecated and will be removed in a future version. Check `isinstance(dtype, pd.SparseDtype)` instead.\n",
      "c:\\GitHub\\Binary-Classification-with-a-Software-Defects-Dataset\\venv\\lib\\site-packages\\xgboost\\data.py:520: FutureWarning: is_sparse is deprecated and will be removed in a future version. Check `isinstance(dtype, pd.SparseDtype)` instead.\n",
      "c:\\GitHub\\Binary-Classification-with-a-Software-Defects-Dataset\\venv\\lib\\site-packages\\xgboost\\data.py:520: FutureWarning: is_sparse is deprecated and will be removed in a future version. Check `isinstance(dtype, pd.SparseDtype)` instead.\n",
      "c:\\GitHub\\Binary-Classification-with-a-Software-Defects-Dataset\\venv\\lib\\site-packages\\xgboost\\data.py:520: FutureWarning: is_sparse is deprecated and will be removed in a future version. Check `isinstance(dtype, pd.SparseDtype)` instead.\n",
      "c:\\GitHub\\Binary-Classification-with-a-Software-Defects-Dataset\\venv\\lib\\site-packages\\xgboost\\data.py:520: FutureWarning: is_sparse is deprecated and will be removed in a future version. Check `isinstance(dtype, pd.SparseDtype)` instead.\n",
      "c:\\GitHub\\Binary-Classification-with-a-Software-Defects-Dataset\\venv\\lib\\site-packages\\xgboost\\data.py:520: FutureWarning: is_sparse is deprecated and will be removed in a future version. Check `isinstance(dtype, pd.SparseDtype)` instead.\n",
      "c:\\GitHub\\Binary-Classification-with-a-Software-Defects-Dataset\\venv\\lib\\site-packages\\xgboost\\data.py:520: FutureWarning: is_sparse is deprecated and will be removed in a future version. Check `isinstance(dtype, pd.SparseDtype)` instead.\n",
      "c:\\GitHub\\Binary-Classification-with-a-Software-Defects-Dataset\\venv\\lib\\site-packages\\xgboost\\data.py:520: FutureWarning: is_sparse is deprecated and will be removed in a future version. Check `isinstance(dtype, pd.SparseDtype)` instead.\n",
      "c:\\GitHub\\Binary-Classification-with-a-Software-Defects-Dataset\\venv\\lib\\site-packages\\xgboost\\data.py:520: FutureWarning: is_sparse is deprecated and will be removed in a future version. Check `isinstance(dtype, pd.SparseDtype)` instead.\n",
      "c:\\GitHub\\Binary-Classification-with-a-Software-Defects-Dataset\\venv\\lib\\site-packages\\xgboost\\data.py:520: FutureWarning: is_sparse is deprecated and will be removed in a future version. Check `isinstance(dtype, pd.SparseDtype)` instead.\n"
     ]
    },
    {
     "name": "stdout",
     "output_type": "stream",
     "text": [
      "63_Xgboost auc 0.790828 trained in 40.31 seconds\n"
     ]
    },
    {
     "name": "stderr",
     "output_type": "stream",
     "text": [
      "c:\\GitHub\\Binary-Classification-with-a-Software-Defects-Dataset\\venv\\lib\\site-packages\\xgboost\\data.py:520: FutureWarning: is_sparse is deprecated and will be removed in a future version. Check `isinstance(dtype, pd.SparseDtype)` instead.\n",
      "c:\\GitHub\\Binary-Classification-with-a-Software-Defects-Dataset\\venv\\lib\\site-packages\\xgboost\\data.py:520: FutureWarning: is_sparse is deprecated and will be removed in a future version. Check `isinstance(dtype, pd.SparseDtype)` instead.\n",
      "c:\\GitHub\\Binary-Classification-with-a-Software-Defects-Dataset\\venv\\lib\\site-packages\\xgboost\\data.py:520: FutureWarning: is_sparse is deprecated and will be removed in a future version. Check `isinstance(dtype, pd.SparseDtype)` instead.\n",
      "c:\\GitHub\\Binary-Classification-with-a-Software-Defects-Dataset\\venv\\lib\\site-packages\\xgboost\\data.py:520: FutureWarning: is_sparse is deprecated and will be removed in a future version. Check `isinstance(dtype, pd.SparseDtype)` instead.\n",
      "c:\\GitHub\\Binary-Classification-with-a-Software-Defects-Dataset\\venv\\lib\\site-packages\\xgboost\\data.py:520: FutureWarning: is_sparse is deprecated and will be removed in a future version. Check `isinstance(dtype, pd.SparseDtype)` instead.\n",
      "c:\\GitHub\\Binary-Classification-with-a-Software-Defects-Dataset\\venv\\lib\\site-packages\\xgboost\\data.py:520: FutureWarning: is_sparse is deprecated and will be removed in a future version. Check `isinstance(dtype, pd.SparseDtype)` instead.\n",
      "c:\\GitHub\\Binary-Classification-with-a-Software-Defects-Dataset\\venv\\lib\\site-packages\\xgboost\\data.py:520: FutureWarning: is_sparse is deprecated and will be removed in a future version. Check `isinstance(dtype, pd.SparseDtype)` instead.\n",
      "c:\\GitHub\\Binary-Classification-with-a-Software-Defects-Dataset\\venv\\lib\\site-packages\\xgboost\\data.py:520: FutureWarning: is_sparse is deprecated and will be removed in a future version. Check `isinstance(dtype, pd.SparseDtype)` instead.\n",
      "c:\\GitHub\\Binary-Classification-with-a-Software-Defects-Dataset\\venv\\lib\\site-packages\\xgboost\\data.py:520: FutureWarning: is_sparse is deprecated and will be removed in a future version. Check `isinstance(dtype, pd.SparseDtype)` instead.\n",
      "c:\\GitHub\\Binary-Classification-with-a-Software-Defects-Dataset\\venv\\lib\\site-packages\\xgboost\\data.py:520: FutureWarning: is_sparse is deprecated and will be removed in a future version. Check `isinstance(dtype, pd.SparseDtype)` instead.\n"
     ]
    },
    {
     "name": "stdout",
     "output_type": "stream",
     "text": [
      "64_Xgboost auc 0.791663 trained in 33.03 seconds\n"
     ]
    },
    {
     "name": "stderr",
     "output_type": "stream",
     "text": [
      "c:\\GitHub\\Binary-Classification-with-a-Software-Defects-Dataset\\venv\\lib\\site-packages\\xgboost\\data.py:520: FutureWarning: is_sparse is deprecated and will be removed in a future version. Check `isinstance(dtype, pd.SparseDtype)` instead.\n",
      "c:\\GitHub\\Binary-Classification-with-a-Software-Defects-Dataset\\venv\\lib\\site-packages\\xgboost\\data.py:520: FutureWarning: is_sparse is deprecated and will be removed in a future version. Check `isinstance(dtype, pd.SparseDtype)` instead.\n",
      "c:\\GitHub\\Binary-Classification-with-a-Software-Defects-Dataset\\venv\\lib\\site-packages\\xgboost\\data.py:520: FutureWarning: is_sparse is deprecated and will be removed in a future version. Check `isinstance(dtype, pd.SparseDtype)` instead.\n",
      "c:\\GitHub\\Binary-Classification-with-a-Software-Defects-Dataset\\venv\\lib\\site-packages\\xgboost\\data.py:520: FutureWarning: is_sparse is deprecated and will be removed in a future version. Check `isinstance(dtype, pd.SparseDtype)` instead.\n",
      "c:\\GitHub\\Binary-Classification-with-a-Software-Defects-Dataset\\venv\\lib\\site-packages\\xgboost\\data.py:520: FutureWarning: is_sparse is deprecated and will be removed in a future version. Check `isinstance(dtype, pd.SparseDtype)` instead.\n",
      "c:\\GitHub\\Binary-Classification-with-a-Software-Defects-Dataset\\venv\\lib\\site-packages\\xgboost\\data.py:520: FutureWarning: is_sparse is deprecated and will be removed in a future version. Check `isinstance(dtype, pd.SparseDtype)` instead.\n",
      "c:\\GitHub\\Binary-Classification-with-a-Software-Defects-Dataset\\venv\\lib\\site-packages\\xgboost\\data.py:520: FutureWarning: is_sparse is deprecated and will be removed in a future version. Check `isinstance(dtype, pd.SparseDtype)` instead.\n",
      "c:\\GitHub\\Binary-Classification-with-a-Software-Defects-Dataset\\venv\\lib\\site-packages\\xgboost\\data.py:520: FutureWarning: is_sparse is deprecated and will be removed in a future version. Check `isinstance(dtype, pd.SparseDtype)` instead.\n",
      "c:\\GitHub\\Binary-Classification-with-a-Software-Defects-Dataset\\venv\\lib\\site-packages\\xgboost\\data.py:520: FutureWarning: is_sparse is deprecated and will be removed in a future version. Check `isinstance(dtype, pd.SparseDtype)` instead.\n",
      "c:\\GitHub\\Binary-Classification-with-a-Software-Defects-Dataset\\venv\\lib\\site-packages\\xgboost\\data.py:520: FutureWarning: is_sparse is deprecated and will be removed in a future version. Check `isinstance(dtype, pd.SparseDtype)` instead.\n"
     ]
    },
    {
     "name": "stdout",
     "output_type": "stream",
     "text": [
      "65_Xgboost auc 0.792645 trained in 42.02 seconds\n"
     ]
    },
    {
     "name": "stderr",
     "output_type": "stream",
     "text": [
      "c:\\GitHub\\Binary-Classification-with-a-Software-Defects-Dataset\\venv\\lib\\site-packages\\xgboost\\data.py:520: FutureWarning: is_sparse is deprecated and will be removed in a future version. Check `isinstance(dtype, pd.SparseDtype)` instead.\n",
      "c:\\GitHub\\Binary-Classification-with-a-Software-Defects-Dataset\\venv\\lib\\site-packages\\xgboost\\data.py:520: FutureWarning: is_sparse is deprecated and will be removed in a future version. Check `isinstance(dtype, pd.SparseDtype)` instead.\n",
      "c:\\GitHub\\Binary-Classification-with-a-Software-Defects-Dataset\\venv\\lib\\site-packages\\xgboost\\data.py:520: FutureWarning: is_sparse is deprecated and will be removed in a future version. Check `isinstance(dtype, pd.SparseDtype)` instead.\n",
      "c:\\GitHub\\Binary-Classification-with-a-Software-Defects-Dataset\\venv\\lib\\site-packages\\xgboost\\data.py:520: FutureWarning: is_sparse is deprecated and will be removed in a future version. Check `isinstance(dtype, pd.SparseDtype)` instead.\n",
      "c:\\GitHub\\Binary-Classification-with-a-Software-Defects-Dataset\\venv\\lib\\site-packages\\xgboost\\data.py:520: FutureWarning: is_sparse is deprecated and will be removed in a future version. Check `isinstance(dtype, pd.SparseDtype)` instead.\n",
      "c:\\GitHub\\Binary-Classification-with-a-Software-Defects-Dataset\\venv\\lib\\site-packages\\xgboost\\data.py:520: FutureWarning: is_sparse is deprecated and will be removed in a future version. Check `isinstance(dtype, pd.SparseDtype)` instead.\n",
      "c:\\GitHub\\Binary-Classification-with-a-Software-Defects-Dataset\\venv\\lib\\site-packages\\xgboost\\data.py:520: FutureWarning: is_sparse is deprecated and will be removed in a future version. Check `isinstance(dtype, pd.SparseDtype)` instead.\n",
      "c:\\GitHub\\Binary-Classification-with-a-Software-Defects-Dataset\\venv\\lib\\site-packages\\xgboost\\data.py:520: FutureWarning: is_sparse is deprecated and will be removed in a future version. Check `isinstance(dtype, pd.SparseDtype)` instead.\n",
      "c:\\GitHub\\Binary-Classification-with-a-Software-Defects-Dataset\\venv\\lib\\site-packages\\xgboost\\data.py:520: FutureWarning: is_sparse is deprecated and will be removed in a future version. Check `isinstance(dtype, pd.SparseDtype)` instead.\n",
      "c:\\GitHub\\Binary-Classification-with-a-Software-Defects-Dataset\\venv\\lib\\site-packages\\xgboost\\data.py:520: FutureWarning: is_sparse is deprecated and will be removed in a future version. Check `isinstance(dtype, pd.SparseDtype)` instead.\n"
     ]
    },
    {
     "name": "stdout",
     "output_type": "stream",
     "text": [
      "66_Xgboost auc 0.79198 trained in 33.4 seconds\n",
      "67_LightGBM auc 0.791207 trained in 33.1 seconds\n",
      "68_LightGBM auc 0.791207 trained in 28.4 seconds\n",
      "* Step boost_on_errors will try to check up to 1 model\n"
     ]
    },
    {
     "name": "stderr",
     "output_type": "stream",
     "text": [
      "c:\\GitHub\\Binary-Classification-with-a-Software-Defects-Dataset\\venv\\lib\\site-packages\\xgboost\\data.py:520: FutureWarning: is_sparse is deprecated and will be removed in a future version. Check `isinstance(dtype, pd.SparseDtype)` instead.\n",
      "c:\\GitHub\\Binary-Classification-with-a-Software-Defects-Dataset\\venv\\lib\\site-packages\\xgboost\\data.py:520: FutureWarning: is_sparse is deprecated and will be removed in a future version. Check `isinstance(dtype, pd.SparseDtype)` instead.\n",
      "c:\\GitHub\\Binary-Classification-with-a-Software-Defects-Dataset\\venv\\lib\\site-packages\\xgboost\\data.py:520: FutureWarning: is_sparse is deprecated and will be removed in a future version. Check `isinstance(dtype, pd.SparseDtype)` instead.\n",
      "c:\\GitHub\\Binary-Classification-with-a-Software-Defects-Dataset\\venv\\lib\\site-packages\\xgboost\\data.py:520: FutureWarning: is_sparse is deprecated and will be removed in a future version. Check `isinstance(dtype, pd.SparseDtype)` instead.\n",
      "c:\\GitHub\\Binary-Classification-with-a-Software-Defects-Dataset\\venv\\lib\\site-packages\\xgboost\\data.py:520: FutureWarning: is_sparse is deprecated and will be removed in a future version. Check `isinstance(dtype, pd.SparseDtype)` instead.\n",
      "c:\\GitHub\\Binary-Classification-with-a-Software-Defects-Dataset\\venv\\lib\\site-packages\\xgboost\\data.py:520: FutureWarning: is_sparse is deprecated and will be removed in a future version. Check `isinstance(dtype, pd.SparseDtype)` instead.\n",
      "c:\\GitHub\\Binary-Classification-with-a-Software-Defects-Dataset\\venv\\lib\\site-packages\\xgboost\\data.py:520: FutureWarning: is_sparse is deprecated and will be removed in a future version. Check `isinstance(dtype, pd.SparseDtype)` instead.\n",
      "c:\\GitHub\\Binary-Classification-with-a-Software-Defects-Dataset\\venv\\lib\\site-packages\\xgboost\\data.py:520: FutureWarning: is_sparse is deprecated and will be removed in a future version. Check `isinstance(dtype, pd.SparseDtype)` instead.\n",
      "c:\\GitHub\\Binary-Classification-with-a-Software-Defects-Dataset\\venv\\lib\\site-packages\\xgboost\\data.py:520: FutureWarning: is_sparse is deprecated and will be removed in a future version. Check `isinstance(dtype, pd.SparseDtype)` instead.\n",
      "c:\\GitHub\\Binary-Classification-with-a-Software-Defects-Dataset\\venv\\lib\\site-packages\\xgboost\\data.py:520: FutureWarning: is_sparse is deprecated and will be removed in a future version. Check `isinstance(dtype, pd.SparseDtype)` instead.\n"
     ]
    },
    {
     "name": "stdout",
     "output_type": "stream",
     "text": [
      "65_Xgboost_BoostOnErrors auc 0.792226 trained in 36.58 seconds\n",
      "* Step ensemble will try to check up to 1 model\n",
      "Ensemble auc 0.793319 trained in 55.45 seconds\n",
      "* Step stack will try to check up to 37 models\n"
     ]
    },
    {
     "name": "stderr",
     "output_type": "stream",
     "text": [
      "c:\\GitHub\\Binary-Classification-with-a-Software-Defects-Dataset\\venv\\lib\\site-packages\\xgboost\\data.py:520: FutureWarning: is_sparse is deprecated and will be removed in a future version. Check `isinstance(dtype, pd.SparseDtype)` instead.\n",
      "c:\\GitHub\\Binary-Classification-with-a-Software-Defects-Dataset\\venv\\lib\\site-packages\\xgboost\\data.py:520: FutureWarning: is_sparse is deprecated and will be removed in a future version. Check `isinstance(dtype, pd.SparseDtype)` instead.\n",
      "c:\\GitHub\\Binary-Classification-with-a-Software-Defects-Dataset\\venv\\lib\\site-packages\\xgboost\\data.py:520: FutureWarning: is_sparse is deprecated and will be removed in a future version. Check `isinstance(dtype, pd.SparseDtype)` instead.\n",
      "c:\\GitHub\\Binary-Classification-with-a-Software-Defects-Dataset\\venv\\lib\\site-packages\\xgboost\\data.py:520: FutureWarning: is_sparse is deprecated and will be removed in a future version. Check `isinstance(dtype, pd.SparseDtype)` instead.\n",
      "c:\\GitHub\\Binary-Classification-with-a-Software-Defects-Dataset\\venv\\lib\\site-packages\\xgboost\\data.py:520: FutureWarning: is_sparse is deprecated and will be removed in a future version. Check `isinstance(dtype, pd.SparseDtype)` instead.\n",
      "c:\\GitHub\\Binary-Classification-with-a-Software-Defects-Dataset\\venv\\lib\\site-packages\\xgboost\\data.py:520: FutureWarning: is_sparse is deprecated and will be removed in a future version. Check `isinstance(dtype, pd.SparseDtype)` instead.\n",
      "c:\\GitHub\\Binary-Classification-with-a-Software-Defects-Dataset\\venv\\lib\\site-packages\\xgboost\\data.py:520: FutureWarning: is_sparse is deprecated and will be removed in a future version. Check `isinstance(dtype, pd.SparseDtype)` instead.\n",
      "c:\\GitHub\\Binary-Classification-with-a-Software-Defects-Dataset\\venv\\lib\\site-packages\\xgboost\\data.py:520: FutureWarning: is_sparse is deprecated and will be removed in a future version. Check `isinstance(dtype, pd.SparseDtype)` instead.\n",
      "c:\\GitHub\\Binary-Classification-with-a-Software-Defects-Dataset\\venv\\lib\\site-packages\\xgboost\\data.py:520: FutureWarning: is_sparse is deprecated and will be removed in a future version. Check `isinstance(dtype, pd.SparseDtype)` instead.\n",
      "c:\\GitHub\\Binary-Classification-with-a-Software-Defects-Dataset\\venv\\lib\\site-packages\\xgboost\\data.py:520: FutureWarning: is_sparse is deprecated and will be removed in a future version. Check `isinstance(dtype, pd.SparseDtype)` instead.\n"
     ]
    },
    {
     "name": "stdout",
     "output_type": "stream",
     "text": [
      "65_Xgboost_Stacked auc 0.776885 trained in 34.16 seconds\n",
      "59_LightGBM_Stacked auc 0.787846 trained in 26.3 seconds\n",
      "61_CatBoost_Stacked auc 0.788579 trained in 67.29 seconds\n",
      "38_RandomForest_Stacked auc 0.791996 trained in 677.36 seconds\n",
      "* Step ensemble_stacked will try to check up to 1 model\n",
      "Ensemble_Stacked auc 0.793349 trained in 66.31 seconds\n",
      "AutoML fit time: 3910.51 seconds\n",
      "AutoML best model: Ensemble_Stacked\n"
     ]
    },
    {
     "data": {
      "text/html": [
       "<style>#sk-container-id-1 {color: black;}#sk-container-id-1 pre{padding: 0;}#sk-container-id-1 div.sk-toggleable {background-color: white;}#sk-container-id-1 label.sk-toggleable__label {cursor: pointer;display: block;width: 100%;margin-bottom: 0;padding: 0.3em;box-sizing: border-box;text-align: center;}#sk-container-id-1 label.sk-toggleable__label-arrow:before {content: \"▸\";float: left;margin-right: 0.25em;color: #696969;}#sk-container-id-1 label.sk-toggleable__label-arrow:hover:before {color: black;}#sk-container-id-1 div.sk-estimator:hover label.sk-toggleable__label-arrow:before {color: black;}#sk-container-id-1 div.sk-toggleable__content {max-height: 0;max-width: 0;overflow: hidden;text-align: left;background-color: #f0f8ff;}#sk-container-id-1 div.sk-toggleable__content pre {margin: 0.2em;color: black;border-radius: 0.25em;background-color: #f0f8ff;}#sk-container-id-1 input.sk-toggleable__control:checked~div.sk-toggleable__content {max-height: 200px;max-width: 100%;overflow: auto;}#sk-container-id-1 input.sk-toggleable__control:checked~label.sk-toggleable__label-arrow:before {content: \"▾\";}#sk-container-id-1 div.sk-estimator input.sk-toggleable__control:checked~label.sk-toggleable__label {background-color: #d4ebff;}#sk-container-id-1 div.sk-label input.sk-toggleable__control:checked~label.sk-toggleable__label {background-color: #d4ebff;}#sk-container-id-1 input.sk-hidden--visually {border: 0;clip: rect(1px 1px 1px 1px);clip: rect(1px, 1px, 1px, 1px);height: 1px;margin: -1px;overflow: hidden;padding: 0;position: absolute;width: 1px;}#sk-container-id-1 div.sk-estimator {font-family: monospace;background-color: #f0f8ff;border: 1px dotted black;border-radius: 0.25em;box-sizing: border-box;margin-bottom: 0.5em;}#sk-container-id-1 div.sk-estimator:hover {background-color: #d4ebff;}#sk-container-id-1 div.sk-parallel-item::after {content: \"\";width: 100%;border-bottom: 1px solid gray;flex-grow: 1;}#sk-container-id-1 div.sk-label:hover label.sk-toggleable__label {background-color: #d4ebff;}#sk-container-id-1 div.sk-serial::before {content: \"\";position: absolute;border-left: 1px solid gray;box-sizing: border-box;top: 0;bottom: 0;left: 50%;z-index: 0;}#sk-container-id-1 div.sk-serial {display: flex;flex-direction: column;align-items: center;background-color: white;padding-right: 0.2em;padding-left: 0.2em;position: relative;}#sk-container-id-1 div.sk-item {position: relative;z-index: 1;}#sk-container-id-1 div.sk-parallel {display: flex;align-items: stretch;justify-content: center;background-color: white;position: relative;}#sk-container-id-1 div.sk-item::before, #sk-container-id-1 div.sk-parallel-item::before {content: \"\";position: absolute;border-left: 1px solid gray;box-sizing: border-box;top: 0;bottom: 0;left: 50%;z-index: -1;}#sk-container-id-1 div.sk-parallel-item {display: flex;flex-direction: column;z-index: 1;position: relative;background-color: white;}#sk-container-id-1 div.sk-parallel-item:first-child::after {align-self: flex-end;width: 50%;}#sk-container-id-1 div.sk-parallel-item:last-child::after {align-self: flex-start;width: 50%;}#sk-container-id-1 div.sk-parallel-item:only-child::after {width: 0;}#sk-container-id-1 div.sk-dashed-wrapped {border: 1px dashed gray;margin: 0 0.4em 0.5em 0.4em;box-sizing: border-box;padding-bottom: 0.4em;background-color: white;}#sk-container-id-1 div.sk-label label {font-family: monospace;font-weight: bold;display: inline-block;line-height: 1.2em;}#sk-container-id-1 div.sk-label-container {text-align: center;}#sk-container-id-1 div.sk-container {/* jupyter's `normalize.less` sets `[hidden] { display: none; }` but bootstrap.min.css set `[hidden] { display: none !important; }` so we also need the `!important` here to be able to override the default hidden behavior on the sphinx rendered scikit-learn.org. See: https://github.com/scikit-learn/scikit-learn/issues/21755 */display: inline-block !important;position: relative;}#sk-container-id-1 div.sk-text-repr-fallback {display: none;}</style><div id=\"sk-container-id-1\" class=\"sk-top-container\"><div class=\"sk-text-repr-fallback\"><pre>AutoML(eval_metric=&#x27;auc&#x27;, mode=&#x27;Compete&#x27;)</pre><b>In a Jupyter environment, please rerun this cell to show the HTML representation or trust the notebook. <br />On GitHub, the HTML representation is unable to render, please try loading this page with nbviewer.org.</b></div><div class=\"sk-container\" hidden><div class=\"sk-item\"><div class=\"sk-estimator sk-toggleable\"><input class=\"sk-toggleable__control sk-hidden--visually\" id=\"sk-estimator-id-1\" type=\"checkbox\" checked><label for=\"sk-estimator-id-1\" class=\"sk-toggleable__label sk-toggleable__label-arrow\">AutoML</label><div class=\"sk-toggleable__content\"><pre>AutoML(eval_metric=&#x27;auc&#x27;, mode=&#x27;Compete&#x27;)</pre></div></div></div></div></div>"
      ],
      "text/plain": [
       "AutoML(eval_metric='auc', mode='Compete')"
      ]
     },
     "execution_count": 4,
     "metadata": {},
     "output_type": "execute_result"
    }
   ],
   "source": [
    "automl.fit(X=X, y=y)"
   ]
  },
  {
   "cell_type": "code",
   "execution_count": 26,
   "metadata": {},
   "outputs": [],
   "source": [
    "df_test = pd.read_csv(\"../../data/test.csv\")\n",
    "indexes = df_test[\"id\"]\n",
    "df_test = df_test.drop(columns=[\"id\"])"
   ]
  },
  {
   "cell_type": "code",
   "execution_count": 27,
   "metadata": {},
   "outputs": [],
   "source": [
    "preds = automl.predict_proba(df_test.values)"
   ]
  },
  {
   "cell_type": "code",
   "execution_count": 37,
   "metadata": {},
   "outputs": [],
   "source": [
    "preds = automl.predict(df_test.values)"
   ]
  },
  {
   "cell_type": "code",
   "execution_count": 33,
   "metadata": {},
   "outputs": [],
   "source": [
    "df_submission = pd.DataFrame(data={'id': indexes ,'defects': preds})\n",
    "df_submission.to_csv('submission.csv', index=False)"
   ]
  },
  {
   "cell_type": "code",
   "execution_count": null,
   "metadata": {},
   "outputs": [],
   "source": []
  }
 ],
 "metadata": {
  "kernelspec": {
   "display_name": "venv",
   "language": "python",
   "name": "python3"
  },
  "language_info": {
   "codemirror_mode": {
    "name": "ipython",
    "version": 3
   },
   "file_extension": ".py",
   "mimetype": "text/x-python",
   "name": "python",
   "nbconvert_exporter": "python",
   "pygments_lexer": "ipython3",
   "version": "3.9.13"
  }
 },
 "nbformat": 4,
 "nbformat_minor": 2
}
