{
 "cells": [
  {
   "cell_type": "code",
   "execution_count": 1,
   "metadata": {},
   "outputs": [],
   "source": [
    "import pandas as pd"
   ]
  },
  {
   "cell_type": "code",
   "execution_count": 2,
   "metadata": {},
   "outputs": [],
   "source": [
    "from tpot import TPOTClassifier"
   ]
  },
  {
   "cell_type": "code",
   "execution_count": 3,
   "metadata": {},
   "outputs": [],
   "source": [
    "from sklearn import model_selection"
   ]
  },
  {
   "cell_type": "code",
   "execution_count": 4,
   "metadata": {},
   "outputs": [],
   "source": [
    "df = pd.read_csv(\"../../data/train.csv\")\n",
    "df = df.drop(columns=[\"id\"])\n",
    "X = df.drop(columns=[\"defects\"]).values\n",
    "y = df[\"defects\"].values"
   ]
  },
  {
   "cell_type": "code",
   "execution_count": 5,
   "metadata": {},
   "outputs": [],
   "source": [
    "cv = model_selection.RepeatedStratifiedKFold(n_splits=10, n_repeats=3, random_state=1)"
   ]
  },
  {
   "cell_type": "code",
   "execution_count": 6,
   "metadata": {},
   "outputs": [],
   "source": [
    "model = TPOTClassifier(\n",
    "    generations=5, \n",
    "    population_size=50, \n",
    "    cv=cv, \n",
    "    scoring='accuracy', \n",
    "    verbosity=10, \n",
    "    random_state=1, \n",
    "    n_jobs=-1\n",
    ")"
   ]
  },
  {
   "cell_type": "code",
   "execution_count": 7,
   "metadata": {},
   "outputs": [
    {
     "name": "stdout",
     "output_type": "stream",
     "text": [
      "32 operators have been imported by TPOT.\n"
     ]
    },
    {
     "data": {
      "application/vnd.jupyter.widget-view+json": {
       "model_id": "58ec75b45dee4a7e8212dc43d6d69f22",
       "version_major": 2,
       "version_minor": 0
      },
      "text/plain": [
       "Optimization Progress:   0%|          | 0/300 [00:00<?, ?pipeline/s]"
      ]
     },
     "metadata": {},
     "output_type": "display_data"
    },
    {
     "name": "stdout",
     "output_type": "stream",
     "text": [
      "Skipped pipeline #6 due to time out. Continuing to the next pipeline.\n",
      "Skipped pipeline #8 due to time out. Continuing to the next pipeline.\n",
      "Skipped pipeline #10 due to time out. Continuing to the next pipeline.\n",
      "Skipped pipeline #13 due to time out. Continuing to the next pipeline.\n",
      "Skipped pipeline #16 due to time out. Continuing to the next pipeline.\n",
      "Skipped pipeline #18 due to time out. Continuing to the next pipeline.\n",
      "Skipped pipeline #25 due to time out. Continuing to the next pipeline.\n",
      "Skipped pipeline #27 due to time out. Continuing to the next pipeline.\n",
      "Skipped pipeline #32 due to time out. Continuing to the next pipeline.\n",
      "Skipped pipeline #34 due to time out. Continuing to the next pipeline.\n",
      "Skipped pipeline #36 due to time out. Continuing to the next pipeline.\n",
      "Skipped pipeline #38 due to time out. Continuing to the next pipeline.\n",
      "Skipped pipeline #46 due to time out. Continuing to the next pipeline.\n",
      "Skipped pipeline #50 due to time out. Continuing to the next pipeline.\n",
      "Skipped pipeline #54 due to time out. Continuing to the next pipeline.\n",
      "Skipped pipeline #56 due to time out. Continuing to the next pipeline.\n",
      "Skipped pipeline #63 due to time out. Continuing to the next pipeline.\n",
      "_pre_test decorator: _mate_operator: num_test=0 'str' object has no attribute 'arity'.\n",
      "_pre_test decorator: _mate_operator: num_test=0 'str' object has no attribute 'arity'.\n",
      "_pre_test decorator: _mate_operator: num_test=0 'str' object has no attribute 'arity'.\n",
      "_pre_test decorator: _random_mutation_operator: num_test=0 Solver lbfgs supports only dual=False, got dual=True.\n",
      "Pipeline encountered that has previously been evaluated during the optimization process. Using the score from the previous evaluation.\n",
      "Skipped pipeline #72 due to time out. Continuing to the next pipeline.\n",
      "Skipped pipeline #80 due to time out. Continuing to the next pipeline.\n",
      "Skipped pipeline #83 due to time out. Continuing to the next pipeline.\n",
      "Skipped pipeline #87 due to time out. Continuing to the next pipeline.\n",
      "Skipped pipeline #89 due to time out. Continuing to the next pipeline.\n",
      "Skipped pipeline #93 due to time out. Continuing to the next pipeline.\n",
      "Skipped pipeline #96 due to time out. Continuing to the next pipeline.\n",
      "Skipped pipeline #98 due to time out. Continuing to the next pipeline.\n",
      "Skipped pipeline #100 due to time out. Continuing to the next pipeline.\n",
      "Skipped pipeline #103 due to time out. Continuing to the next pipeline.\n",
      "Skipped pipeline #106 due to time out. Continuing to the next pipeline.\n",
      "Skipped pipeline #108 due to time out. Continuing to the next pipeline.\n",
      "Skipped pipeline #116 due to time out. Continuing to the next pipeline.\n",
      "Skipped pipeline #121 due to time out. Continuing to the next pipeline.\n",
      "Skipped pipeline #123 due to time out. Continuing to the next pipeline.\n",
      "Skipped pipeline #126 due to time out. Continuing to the next pipeline.\n",
      "Skipped pipeline #131 due to time out. Continuing to the next pipeline.\n",
      "Skipped pipeline #134 due to time out. Continuing to the next pipeline.\n",
      "_pre_test decorator: _mate_operator: num_test=0 'str' object has no attribute 'arity'.\n",
      "_pre_test decorator: _mate_operator: num_test=0 'str' object has no attribute 'arity'.\n",
      "_pre_test decorator: _random_mutation_operator: num_test=0 Solver lbfgs supports only 'l2' or 'none' penalties, got l1 penalty..\n",
      "_pre_test decorator: _random_mutation_operator: num_test=0 Negative values in data passed to MultinomialNB (input X).\n",
      "_pre_test decorator: _mate_operator: num_test=0 'str' object has no attribute 'arity'.\n",
      "_pre_test decorator: _mate_operator: num_test=0 'str' object has no attribute 'arity'.\n",
      "_pre_test decorator: _mate_operator: num_test=0 'str' object has no attribute 'arity'.\n",
      "_pre_test decorator: _random_mutation_operator: num_test=0 Solver lbfgs supports only dual=False, got dual=True.\n",
      "_pre_test decorator: _mate_operator: num_test=0 'str' object has no attribute 'arity'.\n",
      "_pre_test decorator: _mate_operator: num_test=0 'str' object has no attribute 'arity'.\n",
      "_pre_test decorator: _mate_operator: num_test=0 'str' object has no attribute 'arity'.\n",
      "_pre_test decorator: _mate_operator: num_test=0 'str' object has no attribute 'arity'.\n",
      "_pre_test decorator: _mate_operator: num_test=0 'str' object has no attribute 'arity'.\n",
      "Skipped pipeline #175 due to time out. Continuing to the next pipeline.\n",
      "_pre_test decorator: _mate_operator: num_test=0 'str' object has no attribute 'arity'.\n",
      "_pre_test decorator: _mate_operator: num_test=0 'str' object has no attribute 'arity'.\n",
      "_pre_test decorator: _mate_operator: num_test=0 'str' object has no attribute 'arity'.\n",
      "_pre_test decorator: _mate_operator: num_test=0 'str' object has no attribute 'arity'.\n",
      "_pre_test decorator: _random_mutation_operator: num_test=0 Unsupported set of arguments: The combination of penalty='l1' and loss='squared_hinge' are not supported when dual=True, Parameters: penalty='l1', loss='squared_hinge', dual=True.\n",
      "_pre_test decorator: _mate_operator: num_test=0 'str' object has no attribute 'arity'.\n",
      "_pre_test decorator: _mate_operator: num_test=0 'str' object has no attribute 'arity'.\n",
      "Pipeline encountered that has previously been evaluated during the optimization process. Using the score from the previous evaluation.\n",
      "Skipped pipeline #194 due to time out. Continuing to the next pipeline.\n",
      "Skipped pipeline #197 due to time out. Continuing to the next pipeline.\n",
      "Skipped pipeline #209 due to time out. Continuing to the next pipeline.\n",
      "Skipped pipeline #215 due to time out. Continuing to the next pipeline.\n",
      "_pre_test decorator: _mate_operator: num_test=0 'str' object has no attribute 'arity'.\n",
      "_pre_test decorator: _mate_operator: num_test=0 'str' object has no attribute 'arity'.\n",
      "_pre_test decorator: _random_mutation_operator: num_test=0 Solver lbfgs supports only 'l2' or 'none' penalties, got l1 penalty..\n",
      "_pre_test decorator: _mate_operator: num_test=0 'str' object has no attribute 'arity'.\n",
      "_pre_test decorator: _mate_operator: num_test=0 'str' object has no attribute 'arity'.\n",
      "Pipeline encountered that has previously been evaluated during the optimization process. Using the score from the previous evaluation.\n",
      "Pipeline encountered that has previously been evaluated during the optimization process. Using the score from the previous evaluation.\n",
      "Skipped pipeline #250 due to time out. Continuing to the next pipeline.\n",
      "Skipped pipeline #284 due to time out. Continuing to the next pipeline.\n",
      "Skipped pipeline #288 due to time out. Continuing to the next pipeline.\n",
      "Skipped pipeline #290 due to time out. Continuing to the next pipeline.\n",
      "_pre_test decorator: _mate_operator: num_test=0 'str' object has no attribute 'arity'.\n",
      "_pre_test decorator: _mate_operator: num_test=0 'str' object has no attribute 'arity'.\n",
      "_pre_test decorator: _mate_operator: num_test=0 'str' object has no attribute 'arity'.\n",
      "_pre_test decorator: _mate_operator: num_test=0 'str' object has no attribute 'arity'.\n",
      "_pre_test decorator: _mate_operator: num_test=0 'str' object has no attribute 'arity'.\n",
      "_pre_test decorator: _mate_operator: num_test=0 'str' object has no attribute 'arity'.\n",
      "Pipeline encountered that has previously been evaluated during the optimization process. Using the score from the previous evaluation.\n",
      "Pipeline encountered that has previously been evaluated during the optimization process. Using the score from the previous evaluation.\n",
      "Skipped pipeline #308 due to time out. Continuing to the next pipeline.\n",
      "Skipped pipeline #312 due to time out. Continuing to the next pipeline.\n",
      "Skipped pipeline #325 due to time out. Continuing to the next pipeline.\n",
      "Skipped pipeline #331 due to time out. Continuing to the next pipeline.\n"
     ]
    },
    {
     "data": {
      "text/html": [
       "<style>#sk-container-id-1 {color: black;}#sk-container-id-1 pre{padding: 0;}#sk-container-id-1 div.sk-toggleable {background-color: white;}#sk-container-id-1 label.sk-toggleable__label {cursor: pointer;display: block;width: 100%;margin-bottom: 0;padding: 0.3em;box-sizing: border-box;text-align: center;}#sk-container-id-1 label.sk-toggleable__label-arrow:before {content: \"▸\";float: left;margin-right: 0.25em;color: #696969;}#sk-container-id-1 label.sk-toggleable__label-arrow:hover:before {color: black;}#sk-container-id-1 div.sk-estimator:hover label.sk-toggleable__label-arrow:before {color: black;}#sk-container-id-1 div.sk-toggleable__content {max-height: 0;max-width: 0;overflow: hidden;text-align: left;background-color: #f0f8ff;}#sk-container-id-1 div.sk-toggleable__content pre {margin: 0.2em;color: black;border-radius: 0.25em;background-color: #f0f8ff;}#sk-container-id-1 input.sk-toggleable__control:checked~div.sk-toggleable__content {max-height: 200px;max-width: 100%;overflow: auto;}#sk-container-id-1 input.sk-toggleable__control:checked~label.sk-toggleable__label-arrow:before {content: \"▾\";}#sk-container-id-1 div.sk-estimator input.sk-toggleable__control:checked~label.sk-toggleable__label {background-color: #d4ebff;}#sk-container-id-1 div.sk-label input.sk-toggleable__control:checked~label.sk-toggleable__label {background-color: #d4ebff;}#sk-container-id-1 input.sk-hidden--visually {border: 0;clip: rect(1px 1px 1px 1px);clip: rect(1px, 1px, 1px, 1px);height: 1px;margin: -1px;overflow: hidden;padding: 0;position: absolute;width: 1px;}#sk-container-id-1 div.sk-estimator {font-family: monospace;background-color: #f0f8ff;border: 1px dotted black;border-radius: 0.25em;box-sizing: border-box;margin-bottom: 0.5em;}#sk-container-id-1 div.sk-estimator:hover {background-color: #d4ebff;}#sk-container-id-1 div.sk-parallel-item::after {content: \"\";width: 100%;border-bottom: 1px solid gray;flex-grow: 1;}#sk-container-id-1 div.sk-label:hover label.sk-toggleable__label {background-color: #d4ebff;}#sk-container-id-1 div.sk-serial::before {content: \"\";position: absolute;border-left: 1px solid gray;box-sizing: border-box;top: 0;bottom: 0;left: 50%;z-index: 0;}#sk-container-id-1 div.sk-serial {display: flex;flex-direction: column;align-items: center;background-color: white;padding-right: 0.2em;padding-left: 0.2em;position: relative;}#sk-container-id-1 div.sk-item {position: relative;z-index: 1;}#sk-container-id-1 div.sk-parallel {display: flex;align-items: stretch;justify-content: center;background-color: white;position: relative;}#sk-container-id-1 div.sk-item::before, #sk-container-id-1 div.sk-parallel-item::before {content: \"\";position: absolute;border-left: 1px solid gray;box-sizing: border-box;top: 0;bottom: 0;left: 50%;z-index: -1;}#sk-container-id-1 div.sk-parallel-item {display: flex;flex-direction: column;z-index: 1;position: relative;background-color: white;}#sk-container-id-1 div.sk-parallel-item:first-child::after {align-self: flex-end;width: 50%;}#sk-container-id-1 div.sk-parallel-item:last-child::after {align-self: flex-start;width: 50%;}#sk-container-id-1 div.sk-parallel-item:only-child::after {width: 0;}#sk-container-id-1 div.sk-dashed-wrapped {border: 1px dashed gray;margin: 0 0.4em 0.5em 0.4em;box-sizing: border-box;padding-bottom: 0.4em;background-color: white;}#sk-container-id-1 div.sk-label label {font-family: monospace;font-weight: bold;display: inline-block;line-height: 1.2em;}#sk-container-id-1 div.sk-label-container {text-align: center;}#sk-container-id-1 div.sk-container {/* jupyter's `normalize.less` sets `[hidden] { display: none; }` but bootstrap.min.css set `[hidden] { display: none !important; }` so we also need the `!important` here to be able to override the default hidden behavior on the sphinx rendered scikit-learn.org. See: https://github.com/scikit-learn/scikit-learn/issues/21755 */display: inline-block !important;position: relative;}#sk-container-id-1 div.sk-text-repr-fallback {display: none;}</style><div id=\"sk-container-id-1\" class=\"sk-top-container\"><div class=\"sk-text-repr-fallback\"><pre>TPOTClassifier(cv=RepeatedStratifiedKFold(n_repeats=3, n_splits=10, random_state=1),\n",
       "               generations=5, n_jobs=-1, population_size=50, random_state=1,\n",
       "               scoring=&#x27;accuracy&#x27;, verbosity=10)</pre><b>In a Jupyter environment, please rerun this cell to show the HTML representation or trust the notebook. <br />On GitHub, the HTML representation is unable to render, please try loading this page with nbviewer.org.</b></div><div class=\"sk-container\" hidden><div class=\"sk-item\"><div class=\"sk-estimator sk-toggleable\"><input class=\"sk-toggleable__control sk-hidden--visually\" id=\"sk-estimator-id-1\" type=\"checkbox\" checked><label for=\"sk-estimator-id-1\" class=\"sk-toggleable__label sk-toggleable__label-arrow\">TPOTClassifier</label><div class=\"sk-toggleable__content\"><pre>TPOTClassifier(cv=RepeatedStratifiedKFold(n_repeats=3, n_splits=10, random_state=1),\n",
       "               generations=5, n_jobs=-1, population_size=50, random_state=1,\n",
       "               scoring=&#x27;accuracy&#x27;, verbosity=10)</pre></div></div></div></div></div>"
      ],
      "text/plain": [
       "TPOTClassifier(cv=RepeatedStratifiedKFold(n_repeats=3, n_splits=10, random_state=1),\n",
       "               generations=5, n_jobs=-1, population_size=50, random_state=1,\n",
       "               scoring='accuracy', verbosity=10)"
      ]
     },
     "execution_count": 7,
     "metadata": {},
     "output_type": "execute_result"
    }
   ],
   "source": [
    "model.fit(X, y)"
   ]
  },
  {
   "cell_type": "code",
   "execution_count": 8,
   "metadata": {},
   "outputs": [],
   "source": [
    "df_test = pd.read_csv(\"../../data/test.csv\")\n",
    "indexes = df_test[\"id\"]\n",
    "df_test = df_test.drop(columns=[\"id\"])"
   ]
  },
  {
   "cell_type": "code",
   "execution_count": 9,
   "metadata": {},
   "outputs": [
    {
     "name": "stderr",
     "output_type": "stream",
     "text": [
      "c:\\GitHub\\Binary-Classification-with-a-Software-Defects-Dataset\\venv\\lib\\site-packages\\xgboost\\data.py:335: FutureWarning: is_sparse is deprecated and will be removed in a future version. Check `isinstance(dtype, pd.SparseDtype)` instead.\n",
      "  if is_sparse(dtype):\n",
      "c:\\GitHub\\Binary-Classification-with-a-Software-Defects-Dataset\\venv\\lib\\site-packages\\xgboost\\data.py:338: FutureWarning: is_categorical_dtype is deprecated and will be removed in a future version. Use isinstance(dtype, CategoricalDtype) instead\n",
      "  is_categorical_dtype(dtype) or is_pa_ext_categorical_dtype(dtype)\n",
      "c:\\GitHub\\Binary-Classification-with-a-Software-Defects-Dataset\\venv\\lib\\site-packages\\xgboost\\data.py:384: FutureWarning: is_categorical_dtype is deprecated and will be removed in a future version. Use isinstance(dtype, CategoricalDtype) instead\n",
      "  if is_categorical_dtype(dtype):\n",
      "c:\\GitHub\\Binary-Classification-with-a-Software-Defects-Dataset\\venv\\lib\\site-packages\\xgboost\\data.py:359: FutureWarning: is_categorical_dtype is deprecated and will be removed in a future version. Use isinstance(dtype, CategoricalDtype) instead\n",
      "  return is_int or is_bool or is_float or is_categorical_dtype(dtype)\n"
     ]
    }
   ],
   "source": [
    "preds = model.predict(df_test)"
   ]
  },
  {
   "cell_type": "code",
   "execution_count": 12,
   "metadata": {},
   "outputs": [],
   "source": [
    "df_submission = pd.DataFrame(data={'id': indexes ,'defects': list(preds)})\n",
    "df_submission.to_csv('submission.csv', index=False)"
   ]
  },
  {
   "cell_type": "code",
   "execution_count": 13,
   "metadata": {},
   "outputs": [
    {
     "data": {
      "text/plain": [
       "<bound method TPOTBase._summary_of_best_pipeline of TPOTClassifier(cv=RepeatedStratifiedKFold(n_repeats=3, n_splits=10, random_state=1),\n",
       "               generations=5, n_jobs=-1, population_size=50, random_state=1,\n",
       "               scoring='accuracy', verbosity=10)>"
      ]
     },
     "execution_count": 13,
     "metadata": {},
     "output_type": "execute_result"
    }
   ],
   "source": [
    "model._summary_of_best_pipeline"
   ]
  },
  {
   "cell_type": "code",
   "execution_count": null,
   "metadata": {},
   "outputs": [],
   "source": []
  }
 ],
 "metadata": {
  "kernelspec": {
   "display_name": "venv",
   "language": "python",
   "name": "python3"
  },
  "language_info": {
   "codemirror_mode": {
    "name": "ipython",
    "version": 3
   },
   "file_extension": ".py",
   "mimetype": "text/x-python",
   "name": "python",
   "nbconvert_exporter": "python",
   "pygments_lexer": "ipython3",
   "version": "3.9.13"
  }
 },
 "nbformat": 4,
 "nbformat_minor": 2
}
