{
 "cells": [
  {
   "cell_type": "code",
   "execution_count": 1,
   "metadata": {},
   "outputs": [],
   "source": [
    "import pandas as pd\n",
    "import numpy as np\n",
    "\n",
    "from sklearn import ensemble\n",
    "from sklearn import model_selection\n",
    "from sklearn import preprocessing\n",
    "from sklearn import decomposition\n",
    "from sklearn import pipeline\n",
    "from sklearn import metrics\n",
    "\n",
    "from functools import partial\n",
    "\n",
    "from skopt import space\n",
    "from skopt import gp_minimize"
   ]
  },
  {
   "cell_type": "code",
   "execution_count": 2,
   "metadata": {},
   "outputs": [],
   "source": [
    "def optimize(params, param_names, x, y):\n",
    "    params = dict(zip(param_names, params))\n",
    "    model = ensemble.RandomForestClassifier(**params)\n",
    "    kf = model_selection.StratifiedKFold(n_splits=5)\n",
    "    accuracies = []\n",
    "    for idx in kf.split(X=x, y=y):\n",
    "        train_idx, test_idx = idx[0], idx[1]\n",
    "        xtrain = x[train_idx]\n",
    "        ytrain = y[train_idx]\n",
    "\n",
    "        xtest = x[test_idx]\n",
    "        ytest = y[test_idx]\n",
    "\n",
    "        model.fit(xtrain, ytrain)\n",
    "        preds = model.predict(xtest)\n",
    "        fold_acc = metrics.accuracy_score(ytest, preds)\n",
    "        accuracies.append(fold_acc)\n",
    "\n",
    "    return -1.0 * np.mean(accuracies)"
   ]
  },
  {
   "cell_type": "code",
   "execution_count": 4,
   "metadata": {},
   "outputs": [],
   "source": [
    "df = pd.read_csv(\"../../data/train.csv\")\n",
    "X = df.drop(columns=[\"defects\"]).values\n",
    "y = df[\"defects\"].values"
   ]
  },
  {
   "cell_type": "code",
   "execution_count": 5,
   "metadata": {},
   "outputs": [],
   "source": [
    "param_space = [\n",
    "    space.Integer(3, 15, name=\"max_depth\"),\n",
    "    space.Integer(100, 600, name=\"n_estimators\"),\n",
    "    space.Categorical([\"gini\", \"entropy\"], name=\"criterion\"),\n",
    "    space.Real(0.01, 1, prior=\"uniform\", name=\"max_features\")\n",
    "]\n",
    "\n",
    "param_names = [\n",
    "    \"max_depth\",\n",
    "    \"n_estimators\",\n",
    "    \"criterion\",\n",
    "    \"max_features\"\n",
    "]"
   ]
  },
  {
   "cell_type": "code",
   "execution_count": 6,
   "metadata": {},
   "outputs": [],
   "source": [
    "optimization_function = partial(\n",
    "    optimize,\n",
    "    param_names=param_names,\n",
    "    x=X,\n",
    "    y=y\n",
    ")"
   ]
  },
  {
   "cell_type": "code",
   "execution_count": 7,
   "metadata": {},
   "outputs": [
    {
     "name": "stdout",
     "output_type": "stream",
     "text": [
      "Iteration No: 1 started. Evaluating function at random point.\n"
     ]
    }
   ],
   "source": [
    "result = gp_minimize(\n",
    "    optimization_function,\n",
    "    dimensions=param_space,\n",
    "    n_calls=15,\n",
    "    n_random_starts=10,\n",
    "    verbose=10\n",
    ")"
   ]
  },
  {
   "cell_type": "code",
   "execution_count": null,
   "metadata": {},
   "outputs": [],
   "source": []
  }
 ],
 "metadata": {
  "kernelspec": {
   "display_name": "venv",
   "language": "python",
   "name": "python3"
  },
  "language_info": {
   "codemirror_mode": {
    "name": "ipython",
    "version": 3
   },
   "file_extension": ".py",
   "mimetype": "text/x-python",
   "name": "python",
   "nbconvert_exporter": "python",
   "pygments_lexer": "ipython3",
   "version": "3.9.13"
  }
 },
 "nbformat": 4,
 "nbformat_minor": 2
}
